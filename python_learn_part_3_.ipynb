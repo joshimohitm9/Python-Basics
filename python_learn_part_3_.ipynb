{
  "nbformat": 4,
  "nbformat_minor": 0,
  "metadata": {
    "colab": {
      "provenance": [],
      "authorship_tag": "ABX9TyM+GprZytHxe1R298AArYce",
      "include_colab_link": true
    },
    "kernelspec": {
      "name": "python3",
      "display_name": "Python 3"
    },
    "language_info": {
      "name": "python"
    }
  },
  "cells": [
    {
      "cell_type": "markdown",
      "metadata": {
        "id": "view-in-github",
        "colab_type": "text"
      },
      "source": [
        "<a href=\"https://colab.research.google.com/github/joshimohitm9/Python-Basics/blob/main/python_learn_part_3_.ipynb\" target=\"_parent\"><img src=\"https://colab.research.google.com/assets/colab-badge.svg\" alt=\"Open In Colab\"/></a>"
      ]
    },
    {
      "cell_type": "markdown",
      "source": [
        "**dictionary**"
      ],
      "metadata": {
        "id": "Y2lFY18PJS8B"
      }
    },
    {
      "cell_type": "code",
      "execution_count": 1,
      "metadata": {
        "id": "kqQ1U3ipOeNP"
      },
      "outputs": [],
      "source": [
        "# a dictionary is a collection of key-value pairs\n",
        "\n",
        "# Creating a dictionary\n",
        "a={\"keys\":\"values\",\"name\":\"mohit joshi\",\"data\":\"piece of information \",\"greeting\":\"heloo there how are you \"}"
      ]
    },
    {
      "cell_type": "code",
      "source": [
        "# show all the key and value in the dictionary\n",
        "a.items()"
      ],
      "metadata": {
        "colab": {
          "base_uri": "https://localhost:8080/"
        },
        "id": "8RbEw4UYkXQA",
        "outputId": "611e3135-bad5-4799-a676-fd0a1b0e44f2"
      },
      "execution_count": 2,
      "outputs": [
        {
          "output_type": "execute_result",
          "data": {
            "text/plain": [
              "dict_items([('keys', 'values'), ('name', 'mohit joshi'), ('data', 'piece of information '), ('greeting', 'heloo there how are you ')])"
            ]
          },
          "metadata": {},
          "execution_count": 2
        }
      ]
    },
    {
      "cell_type": "code",
      "source": [
        "# show all the keys\n",
        "a.keys()"
      ],
      "metadata": {
        "colab": {
          "base_uri": "https://localhost:8080/"
        },
        "id": "HQerqyocl6Yk",
        "outputId": "60ae01af-9568-4831-a2fc-8bae5a93acf4"
      },
      "execution_count": 3,
      "outputs": [
        {
          "output_type": "execute_result",
          "data": {
            "text/plain": [
              "dict_keys(['keys', 'name', 'data', 'greeting'])"
            ]
          },
          "metadata": {},
          "execution_count": 3
        }
      ]
    },
    {
      "cell_type": "code",
      "source": [
        "# show all the value pair related to the keys\n",
        "a.values()"
      ],
      "metadata": {
        "colab": {
          "base_uri": "https://localhost:8080/"
        },
        "id": "VvvoMsN1l92r",
        "outputId": "c52e6c9e-351b-4708-ae88-bf3bbd45b42e"
      },
      "execution_count": 4,
      "outputs": [
        {
          "output_type": "execute_result",
          "data": {
            "text/plain": [
              "dict_values(['values', 'mohit joshi', 'piece of information ', 'heloo there how are you '])"
            ]
          },
          "metadata": {},
          "execution_count": 4
        }
      ]
    },
    {
      "cell_type": "code",
      "source": [
        "print(a)"
      ],
      "metadata": {
        "id": "ezM3Hu08ppSX",
        "colab": {
          "base_uri": "https://localhost:8080/"
        },
        "outputId": "17226a71-e564-42f4-cae8-b5cc7ee5b8b2"
      },
      "execution_count": 5,
      "outputs": [
        {
          "output_type": "stream",
          "name": "stdout",
          "text": [
            "{'keys': 'values', 'name': 'mohit joshi', 'data': 'piece of information ', 'greeting': 'heloo there how are you '}\n"
          ]
        }
      ]
    },
    {
      "cell_type": "code",
      "source": [
        "# show you the value against the key\n",
        "a.get(\"keys\")"
      ],
      "metadata": {
        "colab": {
          "base_uri": "https://localhost:8080/",
          "height": 35
        },
        "id": "0-HMakQ2jAkA",
        "outputId": "1a42b530-787b-44e1-d38c-95a3b86bd7af"
      },
      "execution_count": 6,
      "outputs": [
        {
          "output_type": "execute_result",
          "data": {
            "text/plain": [
              "'values'"
            ],
            "application/vnd.google.colaboratory.intrinsic+json": {
              "type": "string"
            }
          },
          "metadata": {},
          "execution_count": 6
        }
      ]
    },
    {
      "cell_type": "code",
      "source": [
        "a.get(\"greeting\")"
      ],
      "metadata": {
        "colab": {
          "base_uri": "https://localhost:8080/",
          "height": 35
        },
        "id": "NrA0TTePMdJS",
        "outputId": "e1a8e510-309d-4768-c4ee-3eccb09a432b"
      },
      "execution_count": 7,
      "outputs": [
        {
          "output_type": "execute_result",
          "data": {
            "text/plain": [
              "'heloo there how are you '"
            ],
            "application/vnd.google.colaboratory.intrinsic+json": {
              "type": "string"
            }
          },
          "metadata": {},
          "execution_count": 7
        }
      ]
    },
    {
      "cell_type": "code",
      "source": [
        "b={\"age\":\"age is just a number\",\"dict\":\"combination of key valupe pairs\"}\n",
        "a.update(b)\n",
        "print(a)"
      ],
      "metadata": {
        "id": "c9Tx-KU4jVzo",
        "colab": {
          "base_uri": "https://localhost:8080/"
        },
        "outputId": "360ba596-6753-4860-c007-6835f8e4eb55"
      },
      "execution_count": 8,
      "outputs": [
        {
          "output_type": "stream",
          "name": "stdout",
          "text": [
            "{'keys': 'values', 'name': 'mohit joshi', 'data': 'piece of information ', 'greeting': 'heloo there how are you ', 'age': 'age is just a number', 'dict': 'combination of key valupe pairs'}\n"
          ]
        }
      ]
    },
    {
      "cell_type": "code",
      "source": [
        "b.update(a)\n",
        "print(b)"
      ],
      "metadata": {
        "id": "8gcjRTzHj0OM",
        "colab": {
          "base_uri": "https://localhost:8080/"
        },
        "outputId": "7d20f7f8-7478-4d23-d606-4628a6c3c374"
      },
      "execution_count": 9,
      "outputs": [
        {
          "output_type": "stream",
          "name": "stdout",
          "text": [
            "{'age': 'age is just a number', 'dict': 'combination of key valupe pairs', 'keys': 'values', 'name': 'mohit joshi', 'data': 'piece of information ', 'greeting': 'heloo there how are you '}\n"
          ]
        }
      ]
    },
    {
      "cell_type": "code",
      "source": [
        "print(a)"
      ],
      "metadata": {
        "colab": {
          "base_uri": "https://localhost:8080/"
        },
        "id": "aRGpC_3uj8RL",
        "outputId": "f5f2fd91-472e-4bc1-d9a8-4ef022e56bec"
      },
      "execution_count": 10,
      "outputs": [
        {
          "output_type": "stream",
          "name": "stdout",
          "text": [
            "{'keys': 'values', 'name': 'mohit joshi', 'data': 'piece of information ', 'greeting': 'heloo there how are you ', 'age': 'age is just a number', 'dict': 'combination of key valupe pairs'}\n"
          ]
        }
      ]
    },
    {
      "cell_type": "code",
      "source": [
        "# creating list from dict\n",
        "c=list(a)\n",
        "print(c)"
      ],
      "metadata": {
        "colab": {
          "base_uri": "https://localhost:8080/"
        },
        "id": "b-05D0WUlBrd",
        "outputId": "d48039b7-794c-4e98-c927-50636f6a4447"
      },
      "execution_count": 11,
      "outputs": [
        {
          "output_type": "stream",
          "name": "stdout",
          "text": [
            "['keys', 'name', 'data', 'greeting', 'age', 'dict']\n"
          ]
        }
      ]
    },
    {
      "cell_type": "code",
      "source": [
        "print(type(c))"
      ],
      "metadata": {
        "colab": {
          "base_uri": "https://localhost:8080/"
        },
        "id": "H-N4tYKjlUqh",
        "outputId": "b95d9996-d9b6-4e48-bffa-d8925cf1462d"
      },
      "execution_count": 12,
      "outputs": [
        {
          "output_type": "stream",
          "name": "stdout",
          "text": [
            "<class 'list'>\n"
          ]
        }
      ]
    },
    {
      "cell_type": "code",
      "source": [
        "print(type(a))"
      ],
      "metadata": {
        "colab": {
          "base_uri": "https://localhost:8080/"
        },
        "id": "-G13PbE1lZX4",
        "outputId": "e6ccd997-da05-432f-b864-9a3a11c94e6f"
      },
      "execution_count": 13,
      "outputs": [
        {
          "output_type": "stream",
          "name": "stdout",
          "text": [
            "<class 'dict'>\n"
          ]
        }
      ]
    },
    {
      "cell_type": "markdown",
      "source": [
        "**Creating** **Sets**"
      ],
      "metadata": {
        "id": "Ptfh8ImtM9i7"
      }
    },
    {
      "cell_type": "code",
      "source": [
        "\n",
        "# creating sets\n",
        "\n",
        "#  sets are mutable\n",
        "a=set()\n",
        "print(type(a))\n",
        "a.add(23)\n",
        "a.add(65)\n",
        "a.add(5)\n",
        "print(a)"
      ],
      "metadata": {
        "colab": {
          "base_uri": "https://localhost:8080/"
        },
        "id": "YKtjQtx2mOiM",
        "outputId": "48dc085d-cc06-4beb-dd6c-743a948eb286"
      },
      "execution_count": 14,
      "outputs": [
        {
          "output_type": "stream",
          "name": "stdout",
          "text": [
            "<class 'set'>\n",
            "{65, 5, 23}\n"
          ]
        }
      ]
    },
    {
      "cell_type": "code",
      "source": [
        "# sets dont repeat the same values again and again\n",
        "a={1,2,3,4,6,67,3,2,5,4,65,1,24,2}\n",
        "print(a)"
      ],
      "metadata": {
        "colab": {
          "base_uri": "https://localhost:8080/"
        },
        "id": "Ok5ApDwzmVbf",
        "outputId": "cb55bd45-0acc-431b-d291-c5bb087c8d63"
      },
      "execution_count": 15,
      "outputs": [
        {
          "output_type": "stream",
          "name": "stdout",
          "text": [
            "{1, 2, 67, 3, 4, 6, 5, 65, 24}\n"
          ]
        }
      ]
    },
    {
      "cell_type": "code",
      "source": [
        "len(a)"
      ],
      "metadata": {
        "colab": {
          "base_uri": "https://localhost:8080/"
        },
        "id": "u7pbfhkQmnhT",
        "outputId": "eb8db3c1-633a-4029-f453-cdf8bab0ce60"
      },
      "execution_count": 16,
      "outputs": [
        {
          "output_type": "execute_result",
          "data": {
            "text/plain": [
              "9"
            ]
          },
          "metadata": {},
          "execution_count": 16
        }
      ]
    },
    {
      "cell_type": "code",
      "source": [
        "# removing 3 from the existing set\n",
        "a.remove(3)"
      ],
      "metadata": {
        "id": "7NOmSDTDmutM"
      },
      "execution_count": 17,
      "outputs": []
    },
    {
      "cell_type": "code",
      "source": [
        "print(a)"
      ],
      "metadata": {
        "colab": {
          "base_uri": "https://localhost:8080/"
        },
        "id": "dephd5CinuUE",
        "outputId": "6de8e855-94a3-4bdc-c514-8a63e374d8f3"
      },
      "execution_count": 18,
      "outputs": [
        {
          "output_type": "stream",
          "name": "stdout",
          "text": [
            "{1, 2, 67, 4, 6, 5, 65, 24}\n"
          ]
        }
      ]
    },
    {
      "cell_type": "code",
      "source": [
        "# clear all the elements from the set\n",
        "\n",
        "a.clear()"
      ],
      "metadata": {
        "id": "YtKqIyirn1sc"
      },
      "execution_count": 19,
      "outputs": []
    },
    {
      "cell_type": "code",
      "source": [
        "print(a)"
      ],
      "metadata": {
        "colab": {
          "base_uri": "https://localhost:8080/"
        },
        "id": "VSd1ZK-CoARj",
        "outputId": "39e2f119-69f3-4296-eee1-6258df4d4632"
      },
      "execution_count": 20,
      "outputs": [
        {
          "output_type": "stream",
          "name": "stdout",
          "text": [
            "set()\n"
          ]
        }
      ]
    },
    {
      "cell_type": "code",
      "source": [
        "# insering values inside the set\n",
        "\n",
        "a.add(1)\n",
        "a.add(2)\n",
        "a.add(3)\n",
        "a.add(4)\n",
        "a.add(5)\n",
        "a.add(6)\n",
        "a.add(7)\n",
        "a.add(7)\n",
        "print(a)"
      ],
      "metadata": {
        "colab": {
          "base_uri": "https://localhost:8080/"
        },
        "id": "RTkHct3WoQRg",
        "outputId": "6bcb5242-d8e6-44cd-dd5e-a49e6ff410c4"
      },
      "execution_count": 21,
      "outputs": [
        {
          "output_type": "stream",
          "name": "stdout",
          "text": [
            "{1, 2, 3, 4, 5, 6, 7}\n"
          ]
        }
      ]
    },
    {
      "cell_type": "code",
      "source": [
        "print(a.union({1,2}))\n",
        "print(a.intersection({2,3}))"
      ],
      "metadata": {
        "colab": {
          "base_uri": "https://localhost:8080/"
        },
        "id": "ZtvvnrAMolls",
        "outputId": "f2730546-380e-432f-bcc5-625c7917a087"
      },
      "execution_count": 22,
      "outputs": [
        {
          "output_type": "stream",
          "name": "stdout",
          "text": [
            "{1, 2, 3, 4, 5, 6, 7}\n",
            "{2, 3}\n"
          ]
        }
      ]
    },
    {
      "cell_type": "code",
      "source": [
        "a={1,2,3,4,5}\n",
        "b={2,3,4,5,6}\n",
        "union=a.union(b) # union of a and b\n",
        "print(\"union of a and b\",union)\n",
        "\n",
        "inter=a.intersection(b) # intersection of a and b\n",
        "print(\"intersection of a and b\",inter)"
      ],
      "metadata": {
        "colab": {
          "base_uri": "https://localhost:8080/"
        },
        "id": "dEv19gezN90W",
        "outputId": "0d7e1156-90ea-43a4-b72d-4f2a510f4848"
      },
      "execution_count": 23,
      "outputs": [
        {
          "output_type": "stream",
          "name": "stdout",
          "text": [
            "union of a and b {1, 2, 3, 4, 5, 6}\n",
            "intersection of a and b {2, 3, 4, 5}\n"
          ]
        }
      ]
    },
    {
      "cell_type": "markdown",
      "source": [
        "**Practice** **Set**"
      ],
      "metadata": {
        "id": "Y-qg4hdxOt_v"
      }
    },
    {
      "cell_type": "code",
      "source": [
        "# dictionary that translate hindi word into english\n",
        "\n",
        "a={\"kitab\":\"books\",\n",
        "  \"gulab\":\"rose\",\n",
        "  \"khana\":\"food\",\n",
        "  \"takiya\":\"pillow\",\n",
        "  \"lota\":\"mug\",\n",
        "  \"pyar\":\"Love\"}\n",
        "print(a.keys())\n",
        "c=input(\"enter a values which is given in the above list \\n:\")\n",
        "c=c.lower()\n",
        "print(\"meaning of your word is : \")\n",
        "print(a.get(c))\n"
      ],
      "metadata": {
        "colab": {
          "base_uri": "https://localhost:8080/"
        },
        "id": "O8rb-fycpAUs",
        "outputId": "6822c1fd-1f9b-4917-ca0f-789a328b47da"
      },
      "execution_count": 24,
      "outputs": [
        {
          "output_type": "stream",
          "name": "stdout",
          "text": [
            "dict_keys(['kitab', 'gulab', 'khana', 'takiya', 'lota', 'pyar'])\n",
            "enter a values which is given in the above list \n",
            ":kitab\n",
            "meaning of your word is : \n",
            "books\n"
          ]
        }
      ]
    },
    {
      "cell_type": "code",
      "source": [
        "# taking input from user and update the value in a set\n",
        "\n",
        "a1=int(input(\"enter 1 number\"))\n",
        "a2=int(input(\"enter 2 number\"))\n",
        "a3=int(input(\"enter 3 number\"))\n",
        "a4=int(input(\"enter 4 number\"))\n",
        "a5=int(input(\"enter 5 number\"))\n",
        "a6=int(input(\"enter 6 number\"))\n",
        "a7=int(input(\"enter 7 number\"))\n",
        "a8=int(input(\"enter 8 number\"))\n",
        "s={a1,a2,a3,a4,a5,a6,a7,a8}\n",
        "print(s)\n"
      ],
      "metadata": {
        "colab": {
          "base_uri": "https://localhost:8080/"
        },
        "id": "Py4xsyicp6PR",
        "outputId": "24bc0d7b-a044-4cde-87c2-7d2b80566f80"
      },
      "execution_count": 25,
      "outputs": [
        {
          "output_type": "stream",
          "name": "stdout",
          "text": [
            "enter 1 number34\n",
            "enter 2 number23\n",
            "enter 3 number22\n",
            "enter 4 number12\n",
            "enter 5 number23\n",
            "enter 6 number43\n",
            "enter 7 number54\n",
            "enter 8 number34\n",
            "{34, 43, 12, 22, 23, 54}\n"
          ]
        }
      ]
    },
    {
      "cell_type": "code",
      "source": [
        "# creating the same logic using for loop to make our work easy\n",
        "\n",
        "x=set()\n",
        "a,b,c,d,e=int(input(\"enter a number\")),int(input(\"enter a number\")),int(input(\"enter a number\")),int(input(\"enter a number\")),int(input(\"enter a number\"))\n",
        "for i in  a,b,c,d,e:\n",
        "  x.add(i)\n",
        "print(x)"
      ],
      "metadata": {
        "colab": {
          "base_uri": "https://localhost:8080/"
        },
        "id": "x_qtjiTKP8WH",
        "outputId": "56632457-1744-4319-9989-d171e033649a"
      },
      "execution_count": 26,
      "outputs": [
        {
          "output_type": "stream",
          "name": "stdout",
          "text": [
            "enter a number5\n",
            "enter a number4\n",
            "enter a number33\n",
            "enter a number4\n",
            "enter a number5\n",
            "{33, 4, 5}\n"
          ]
        }
      ]
    },
    {
      "cell_type": "code",
      "source": [
        "# set only contain unique elemet but  20 and 20.0 are same so in set it will be written only one time\n",
        "\n",
        "\n",
        "s=set()\n",
        "s.add(20)\n",
        "s.add(\"20\")\n",
        "s.add(20.0)\n",
        "print(s)"
      ],
      "metadata": {
        "colab": {
          "base_uri": "https://localhost:8080/"
        },
        "id": "9g92nMp8tDUe",
        "outputId": "a7c87c05-c9eb-492e-ad38-f0a3f897f974"
      },
      "execution_count": 27,
      "outputs": [
        {
          "output_type": "stream",
          "name": "stdout",
          "text": [
            "{'20', 20}\n"
          ]
        }
      ]
    },
    {
      "cell_type": "code",
      "source": [
        "# creating a dict which contain fav language\n",
        "\n",
        "a={}\n",
        "a1=input(\"enter your favorite languege frnd 1 :\")\n",
        "a2=input(\"enter your favorite languege  frnd 2:\")\n",
        "a3=input(\"enter your favorite languege frnd 3:\")\n",
        "a4=input(\"enter your favorite languege frnd 4 :\")\n",
        "a[\"devang\"]=a1\n",
        "a[\"teju\"]=a2\n",
        "a[\"twinkle\"]=a3\n",
        "a[\"baby\"]=a4\n",
        "print(a)"
      ],
      "metadata": {
        "colab": {
          "base_uri": "https://localhost:8080/"
        },
        "id": "xnAaxpuytYZx",
        "outputId": "d16e6894-a143-42c7-8589-45a247658970"
      },
      "execution_count": 28,
      "outputs": [
        {
          "output_type": "stream",
          "name": "stdout",
          "text": [
            "enter your favorite languege frnd 1 :python\n",
            "enter your favorite languege  frnd 2:c++\n",
            "enter your favorite languege frnd 3:java\n",
            "enter your favorite languege frnd 4 :c\n",
            "{'devang': 'python', 'teju': 'c++', 'twinkle': 'java', 'baby': 'c'}\n"
          ]
        }
      ]
    },
    {
      "cell_type": "markdown",
      "source": [
        "**Practice for If else questions**\n",
        "\n"
      ],
      "metadata": {
        "id": "v1HWD0wIYLmz"
      }
    },
    {
      "cell_type": "code",
      "source": [
        "# using if, else and elif creating biggest number out of 4\n",
        "\n",
        "try:\n",
        "  a=int(input(\"enter a number :\"))\n",
        "  b=int(input(\"enter another number :\"))\n",
        "  c=int(input(\"enter another number :\"))\n",
        "  d=int(input(\"enter another number :\"))\n",
        "  if a>b and b>c and c>d:\n",
        "    print(f\"Biggest number is {a}\")\n",
        "  elif b>a and b>c and b>d:\n",
        "    print(f\"Biggest number is {b}\")\n",
        "  elif c>a and c>b and c>d:\n",
        "    print(f\"Biggest number is {c}\")\n",
        "  elif d>a and d>b and d>c:\n",
        "    print(f\"Biggest number is {d}\")\n",
        "except:\n",
        "  print(\"pls enter correctly \")"
      ],
      "metadata": {
        "colab": {
          "base_uri": "https://localhost:8080/"
        },
        "id": "Yx_231WzV8dI",
        "outputId": "049d5c5d-11d8-4ff3-e3a9-87a06d3f7380"
      },
      "execution_count": 29,
      "outputs": [
        {
          "output_type": "stream",
          "name": "stdout",
          "text": [
            "enter a number :34\n",
            "enter another number :43\n",
            "enter another number :45\n",
            "enter another number :54\n",
            "Biggest number is 54\n"
          ]
        }
      ]
    },
    {
      "cell_type": "code",
      "source": [
        "# finding average numbers\n",
        "\n",
        "\n",
        "a=int(input(\"enter your marks :\"))\n",
        "b=int(input(\"enter another marks :\"))\n",
        "c=int(input(\"enter another marks :\"))\n",
        "d=(a+b+c)/3\n",
        "print(d)\n",
        "if a>100 and b>100 and c>100 :\n",
        "  print(\"error input\")\n",
        "if(d<33):\n",
        "  print(f\"you are fail {d}\")\n",
        "elif(40>=d>=33):\n",
        "  print(f\"you are just passed {d}\")\n",
        "elif(60>=d>=41):\n",
        "  print(f\"you got avg percentage {d} keep it up \")\n",
        "elif(80>=d>=61):\n",
        "  print(f\"you got good percentage {d} keep it up \")\n",
        "elif(90>=d>=81):\n",
        "  print(f\"you got excellent percentage {d} keep it up \")\n",
        "elif(100>=d>=91):\n",
        "  print(f\"you are breliint student good you got  {d} percentage \")\n",
        "else:\n",
        "  print(\"write your number out of hundred \")\n"
      ],
      "metadata": {
        "colab": {
          "base_uri": "https://localhost:8080/"
        },
        "id": "lHy8AClTNtrP",
        "outputId": "5f47b88f-93f6-482d-ae02-db4a8a12434b"
      },
      "execution_count": 30,
      "outputs": [
        {
          "output_type": "stream",
          "name": "stdout",
          "text": [
            "enter your marks :54\n",
            "enter another marks :45\n",
            "enter another marks :54\n",
            "51.0\n",
            "you got avg percentage 51.0 keep it up \n"
          ]
        }
      ]
    },
    {
      "cell_type": "code",
      "source": [
        "a=(input(\"enter your 10 digit phone number: \"))\n",
        "b=len(a)\n",
        "if (b<10):\n",
        "  print(\"check your used id it must contain 10 digit \")\n",
        "elif(b>10):\n",
        "  print(\"check your used id it only contain 10 digit \")\n",
        "else:\n",
        "  print(\"welcome\")"
      ],
      "metadata": {
        "colab": {
          "base_uri": "https://localhost:8080/"
        },
        "id": "EiAvmAwvbEav",
        "outputId": "c97774ee-c59d-412f-8bf2-ad811b9e6e54"
      },
      "execution_count": 37,
      "outputs": [
        {
          "output_type": "stream",
          "name": "stdout",
          "text": [
            "enter your 10 digit phone number: 9717795531\n",
            "welcome\n"
          ]
        }
      ]
    },
    {
      "cell_type": "code",
      "source": [
        "a=[2,3,4,5,6,7,8,9,8,87,655,453,23,23,14,64,75,75,78]\n",
        "b= int(input(\"enter a number :\"))\n",
        "if (b in a):\n",
        "  print(\"hureyyy \")\n",
        "else:\n",
        " print(\"idk\")"
      ],
      "metadata": {
        "colab": {
          "base_uri": "https://localhost:8080/"
        },
        "id": "5-QKbyq2bkpr",
        "outputId": "01f72c4c-e1c2-457f-a644-4145a8efe844"
      },
      "execution_count": 32,
      "outputs": [
        {
          "output_type": "stream",
          "name": "stdout",
          "text": [
            "enter a number :23\n",
            "hureyyy \n"
          ]
        }
      ]
    },
    {
      "cell_type": "markdown",
      "source": [
        "**For loop Practice**"
      ],
      "metadata": {
        "id": "jhIOpv02YTDt"
      }
    },
    {
      "cell_type": "code",
      "source": [
        "# print the table\n",
        "a=int(input(\"enter a number:\"))\n",
        "for i in range(1,11):\n",
        "  c=a*i\n",
        "  print(f\"{a} X {i} = {c}\")"
      ],
      "metadata": {
        "colab": {
          "base_uri": "https://localhost:8080/"
        },
        "id": "wUDNZUlPdDO3",
        "outputId": "3d1b0068-88c1-4823-f0bd-6afa646ae81d"
      },
      "execution_count": 33,
      "outputs": [
        {
          "output_type": "stream",
          "name": "stdout",
          "text": [
            "enter a number:2\n",
            "2 X 1 = 2\n",
            "2 X 2 = 4\n",
            "2 X 3 = 6\n",
            "2 X 4 = 8\n",
            "2 X 5 = 10\n",
            "2 X 6 = 12\n",
            "2 X 7 = 14\n",
            "2 X 8 = 16\n",
            "2 X 9 = 18\n",
            "2 X 10 = 20\n"
          ]
        }
      ]
    },
    {
      "cell_type": "code",
      "source": [
        "a=[\"harsh\",\"twinkle\",\"mohit\",\"happy\",'ayush']\n",
        "for name in a:\n",
        "  if name.startswith(\"t\"):\n",
        "    print(\"hello \" + name)"
      ],
      "metadata": {
        "colab": {
          "base_uri": "https://localhost:8080/"
        },
        "id": "OmY_1b_Aedn0",
        "outputId": "b64373ef-09f2-4e2b-e0ea-8b8eb5cbbbe0"
      },
      "execution_count": 34,
      "outputs": [
        {
          "output_type": "stream",
          "name": "stdout",
          "text": [
            "hello twinkle\n"
          ]
        }
      ]
    },
    {
      "cell_type": "code",
      "source": [
        "# multiplication table for any number using while loop\n",
        "a=int(input(\"enter a number\"))\n",
        "i=1\n",
        "while i<11:\n",
        "  print(f\"{a} X {i} = {i*a}\")\n",
        "  i=i+1\n"
      ],
      "metadata": {
        "colab": {
          "base_uri": "https://localhost:8080/"
        },
        "id": "pOTIDCj3gaDY",
        "outputId": "48ec01ed-069a-485f-9f02-dcb6ea0afb9f"
      },
      "execution_count": 35,
      "outputs": [
        {
          "output_type": "stream",
          "name": "stdout",
          "text": [
            "enter a number3\n",
            "3 X 1 = 3\n",
            "3 X 2 = 6\n",
            "3 X 3 = 9\n",
            "3 X 4 = 12\n",
            "3 X 5 = 15\n",
            "3 X 6 = 18\n",
            "3 X 7 = 21\n",
            "3 X 8 = 24\n",
            "3 X 9 = 27\n",
            "3 X 10 = 30\n"
          ]
        }
      ]
    }
  ]
}