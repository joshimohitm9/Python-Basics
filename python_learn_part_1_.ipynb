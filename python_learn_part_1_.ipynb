{
  "nbformat": 4,
  "nbformat_minor": 0,
  "metadata": {
    "colab": {
      "provenance": [],
      "authorship_tag": "ABX9TyP3EOrtHemUrhY0pXU5cT1/",
      "include_colab_link": true
    },
    "kernelspec": {
      "name": "python3",
      "display_name": "Python 3"
    },
    "language_info": {
      "name": "python"
    }
  },
  "cells": [
    {
      "cell_type": "markdown",
      "metadata": {
        "id": "view-in-github",
        "colab_type": "text"
      },
      "source": [
        "<a href=\"https://colab.research.google.com/github/joshimohitm9/Python-Basics/blob/main/python_learn_part_1_.ipynb\" target=\"_parent\"><img src=\"https://colab.research.google.com/assets/colab-badge.svg\" alt=\"Open In Colab\"/></a>"
      ]
    },
    {
      "cell_type": "markdown",
      "source": [
        "**First Day of Programming**"
      ],
      "metadata": {
        "id": "FOHLNMg2grFe"
      }
    },
    {
      "cell_type": "code",
      "execution_count": 1,
      "metadata": {
        "colab": {
          "base_uri": "https://localhost:8080/"
        },
        "id": "UWoyRW4J-dlu",
        "outputId": "1894230e-ecde-44d4-f80d-8fce685016bc"
      },
      "outputs": [
        {
          "output_type": "stream",
          "name": "stdout",
          "text": [
            "hello world\n"
          ]
        }
      ],
      "source": [
        "# to print anything in python use print command\n",
        "print(\"hello world\")"
      ]
    },
    {
      "cell_type": "markdown",
      "source": [
        "**Basic of Python**"
      ],
      "metadata": {
        "id": "Xx9yeNnMg08I"
      }
    },
    {
      "cell_type": "code",
      "source": [
        "# creating Variable\n",
        "\n",
        "a=\"twinkle twinkle little star\"\n",
        "print(a)\n",
        "\n"
      ],
      "metadata": {
        "colab": {
          "base_uri": "https://localhost:8080/"
        },
        "id": "xQSGWv60-gIX",
        "outputId": "3fb1be60-7d24-4d52-f44e-ba2bdfe149e8"
      },
      "execution_count": 2,
      "outputs": [
        {
          "output_type": "stream",
          "name": "stdout",
          "text": [
            "twinkle twinkle little star\n"
          ]
        }
      ]
    },
    {
      "cell_type": "code",
      "source": [
        "# The triple quotes (''' or \"\"\") in Python are used to create multiline strings\n",
        "\n",
        "a='''Twinkle, twinkle, little star,\n",
        "How I wonder what you are!\n",
        "Up above the world so high,\n",
        "Like a diamond in the sky.\n",
        "\n",
        "When the blazing sun is gone,\n",
        "When he nothing shines upon,\n",
        "Then you show your little light,\n",
        "Twinkle, twinkle, all the night.\n",
        "\n",
        "Then the traveler in the dark\n",
        "Thanks you for your tiny spark,\n",
        "How could he see where to go,\n",
        "If you did not twinkle so?\n",
        "\n",
        "In the dark blue sky you keep,\n",
        "Often through my curtains peep\n",
        "For you never shut your eye,\n",
        "Till the sun is in the sky.\n",
        "\n",
        "As your bright and tiny spark\n",
        "Lights the traveler in the dark,\n",
        "Though I know not what you are,\n",
        "Twinkle, twinkle, little star.'''\n",
        "print(a)"
      ],
      "metadata": {
        "colab": {
          "base_uri": "https://localhost:8080/"
        },
        "id": "xba7DADIFBgW",
        "outputId": "0ce05f64-f2a8-457d-ede6-7c993e252f70"
      },
      "execution_count": 3,
      "outputs": [
        {
          "output_type": "stream",
          "name": "stdout",
          "text": [
            "Twinkle, twinkle, little star,\n",
            "How I wonder what you are!\n",
            "Up above the world so high,\n",
            "Like a diamond in the sky.\n",
            "\n",
            "When the blazing sun is gone,\n",
            "When he nothing shines upon,\n",
            "Then you show your little light,\n",
            "Twinkle, twinkle, all the night.\n",
            "\n",
            "Then the traveler in the dark\n",
            "Thanks you for your tiny spark,\n",
            "How could he see where to go,\n",
            "If you did not twinkle so?\n",
            "\n",
            "In the dark blue sky you keep,\n",
            "Often through my curtains peep\n",
            "For you never shut your eye,\n",
            "Till the sun is in the sky.\n",
            "\n",
            "As your bright and tiny spark\n",
            "Lights the traveler in the dark,\n",
            "Though I know not what you are,\n",
            "Twinkle, twinkle, little star.\n"
          ]
        }
      ]
    },
    {
      "cell_type": "markdown",
      "source": [
        "**comments in python**"
      ],
      "metadata": {
        "id": "bpt9NoX6g_fF"
      }
    },
    {
      "cell_type": "code",
      "source": [
        "# control + forward slash (Ctrl + /) use for multiple comment\n",
        "\n",
        "a=\"mohit\"\n",
        "print(a)"
      ],
      "metadata": {
        "id": "dLqmvCWWFkdF",
        "colab": {
          "base_uri": "https://localhost:8080/"
        },
        "outputId": "1c5bcb1e-09e4-413f-a9b5-1c875c76ea5d"
      },
      "execution_count": 4,
      "outputs": [
        {
          "output_type": "stream",
          "name": "stdout",
          "text": [
            "mohit\n"
          ]
        }
      ]
    },
    {
      "cell_type": "markdown",
      "source": [
        "**Data Types and Variable**"
      ],
      "metadata": {
        "id": "11ATpiY1hJij"
      }
    },
    {
      "cell_type": "code",
      "source": [
        "# Different Datatypes\n",
        "\n",
        "a=\"mohit\"\n",
        "b=98\n",
        "c=96.5\n",
        "d=True\n",
        "e=None\n",
        "print(type(a))\n",
        "print(type(b))\n",
        "print(type(c))\n",
        "print(type(d))\n",
        "print(type(e))"
      ],
      "metadata": {
        "colab": {
          "base_uri": "https://localhost:8080/"
        },
        "id": "__FDHVZUHd4J",
        "outputId": "76a7ff38-6901-4581-ba2c-64e7024d326a"
      },
      "execution_count": 5,
      "outputs": [
        {
          "output_type": "stream",
          "name": "stdout",
          "text": [
            "<class 'str'>\n",
            "<class 'int'>\n",
            "<class 'float'>\n",
            "<class 'bool'>\n",
            "<class 'NoneType'>\n"
          ]
        }
      ]
    },
    {
      "cell_type": "code",
      "source": [
        "# Python is case-sensitive. This means that variable \"A\" and \"a\" are considered different in Python\n",
        "\n",
        "a=\"mohit\"\n",
        "A=\"joshi\"\n",
        "\n",
        "print(A,a)"
      ],
      "metadata": {
        "id": "r75864Q3KjTn",
        "colab": {
          "base_uri": "https://localhost:8080/"
        },
        "outputId": "b87e65ad-46a3-4b2c-a964-8cd428b3dbde"
      },
      "execution_count": 6,
      "outputs": [
        {
          "output_type": "stream",
          "name": "stdout",
          "text": [
            "joshi mohit\n"
          ]
        }
      ]
    },
    {
      "cell_type": "code",
      "source": [
        "# Basic arithmetic operations\n",
        "a=30\n",
        "b=20\n",
        "c=a+b\n",
        "d=a-b\n",
        "\n",
        "print(f\"\"\"a + b is {a}\n",
        "\n",
        "a - b is {d}\"\"\")\n"
      ],
      "metadata": {
        "colab": {
          "base_uri": "https://localhost:8080/"
        },
        "id": "oMokxzHUMmqq",
        "outputId": "7d138fc5-099c-4ba0-ca31-29c223728c10"
      },
      "execution_count": 7,
      "outputs": [
        {
          "output_type": "stream",
          "name": "stdout",
          "text": [
            "a + b is 30 \n",
            "\n",
            "a - b is 10\n"
          ]
        }
      ]
    },
    {
      "cell_type": "code",
      "source": [
        "a = 20\n",
        "b = 485\n",
        "print(\"Addition :\",a+b)\n",
        "print(\"Subtraction :\",a-b)\n",
        "print(\"Multiplication :\",a*b)\n",
        "print(\"Division :\",a/b)\n",
        "print(\"Modulus :\",a%b)\n"
      ],
      "metadata": {
        "colab": {
          "base_uri": "https://localhost:8080/"
        },
        "id": "-8nf-mc3Nax_",
        "outputId": "c228fc7d-4cab-41b0-fa68-3676046726b8"
      },
      "execution_count": 8,
      "outputs": [
        {
          "output_type": "stream",
          "name": "stdout",
          "text": [
            "Addition : 505\n",
            "Subtraction : -465\n",
            "Multiplication : 9700\n",
            "Division : 0.041237113402061855\n",
            "Modulus : 20\n"
          ]
        }
      ]
    },
    {
      "cell_type": "code",
      "source": [
        "# this means increment the value of \"a\" with 6 and store the value in \"a\" again\n",
        "a+=6\n",
        "print(a)"
      ],
      "metadata": {
        "colab": {
          "base_uri": "https://localhost:8080/"
        },
        "id": "7os0yynGNyGP",
        "outputId": "6b04e778-e788-4e5f-e8b9-d6a05808682e"
      },
      "execution_count": 9,
      "outputs": [
        {
          "output_type": "stream",
          "name": "stdout",
          "text": [
            "26\n"
          ]
        }
      ]
    },
    {
      "cell_type": "code",
      "source": [
        "# use of if else statement\n",
        "\n",
        "if a==b:\n",
        " print(\"bad\")\n",
        "else:\n",
        "  print(\"good\")"
      ],
      "metadata": {
        "colab": {
          "base_uri": "https://localhost:8080/"
        },
        "id": "hNHvROdOOM2v",
        "outputId": "f4cb371a-e72e-4c58-d92d-a0300341b74f"
      },
      "execution_count": 10,
      "outputs": [
        {
          "output_type": "stream",
          "name": "stdout",
          "text": [
            "good\n"
          ]
        }
      ]
    },
    {
      "cell_type": "code",
      "source": [
        "z=16<12\n",
        "print(z)"
      ],
      "metadata": {
        "colab": {
          "base_uri": "https://localhost:8080/"
        },
        "id": "bk2uIg0FO2mR",
        "outputId": "e6dacaff-b987-4771-93b1-e81bb720b391"
      },
      "execution_count": 11,
      "outputs": [
        {
          "output_type": "stream",
          "name": "stdout",
          "text": [
            "False\n"
          ]
        }
      ]
    },
    {
      "cell_type": "code",
      "source": [
        "# if a in not equlas to b then print good otherwise print bad\n",
        "if(a!=b):\n",
        "  print(\"good\")\n",
        "else:\n",
        "  print(\"bad\")"
      ],
      "metadata": {
        "id": "i5jllExDPAmB",
        "colab": {
          "base_uri": "https://localhost:8080/"
        },
        "outputId": "e18ab3eb-1b6c-41f1-b001-d7f68764c079"
      },
      "execution_count": 12,
      "outputs": [
        {
          "output_type": "stream",
          "name": "stdout",
          "text": [
            "good\n"
          ]
        }
      ]
    },
    {
      "cell_type": "code",
      "source": [
        "a=\"mohit\"\n",
        "print(f\"my name is {a} and i am a good boy \")"
      ],
      "metadata": {
        "colab": {
          "base_uri": "https://localhost:8080/"
        },
        "id": "Lo1MZn65DQm2",
        "outputId": "dcacf5cc-56f0-4d73-c58b-68d6416c34f5"
      },
      "execution_count": 13,
      "outputs": [
        {
          "output_type": "stream",
          "name": "stdout",
          "text": [
            "my name is mohit and i am a good boy \n"
          ]
        }
      ]
    },
    {
      "cell_type": "code",
      "source": [
        "# boolan and logical expression\n",
        "a= True\n",
        "b= False\n",
        "print(a and b)\n",
        "print(a or b)\n",
        "print(not a and not b)\n",
        "print(not a or not b)"
      ],
      "metadata": {
        "colab": {
          "base_uri": "https://localhost:8080/"
        },
        "id": "urs97GKPD9yM",
        "outputId": "d350ca58-72f5-4c5e-a2ea-38ede72f22d6"
      },
      "execution_count": 14,
      "outputs": [
        {
          "output_type": "stream",
          "name": "stdout",
          "text": [
            "False\n",
            "True\n",
            "False\n",
            "True\n"
          ]
        }
      ]
    },
    {
      "cell_type": "markdown",
      "source": [
        "**type casting**"
      ],
      "metadata": {
        "id": "Y5GMRH1GhnLL"
      }
    },
    {
      "cell_type": "code",
      "source": [
        "b=\"6754\"\n",
        "c=int(b)\n",
        "print(type(b))\n",
        "print(type(c))\n"
      ],
      "metadata": {
        "colab": {
          "base_uri": "https://localhost:8080/"
        },
        "id": "KDtkDbTWFe_y",
        "outputId": "d2a335b4-6f56-43a1-b60c-67f32f52127f"
      },
      "execution_count": 15,
      "outputs": [
        {
          "output_type": "stream",
          "name": "stdout",
          "text": [
            "<class 'str'>\n",
            "<class 'int'>\n"
          ]
        }
      ]
    },
    {
      "cell_type": "code",
      "source": [
        "\n",
        "b=674\n",
        "c=float(b)\n",
        "d=bool(b)\n",
        "print(c)\n",
        "print(d)"
      ],
      "metadata": {
        "colab": {
          "base_uri": "https://localhost:8080/"
        },
        "id": "NNg0-tl3FruX",
        "outputId": "9b2df1dc-a57a-4772-bade-df7096527325"
      },
      "execution_count": 16,
      "outputs": [
        {
          "output_type": "stream",
          "name": "stdout",
          "text": [
            "674.0\n",
            "True\n"
          ]
        }
      ]
    },
    {
      "cell_type": "markdown",
      "source": [
        "**basic program**"
      ],
      "metadata": {
        "id": "8R9FfOkyhybE"
      }
    },
    {
      "cell_type": "code",
      "source": [
        "# taking input from user and creating a program for addition\n",
        "\n",
        "a=int(input(\"enter a number:\"))\n",
        "b=int(input(\"enter another:\"))\n",
        "print(f\"sum of {a} and {b} is\",a+b)\n"
      ],
      "metadata": {
        "colab": {
          "base_uri": "https://localhost:8080/"
        },
        "id": "r7zO4s5oGy9u",
        "outputId": "618f4876-cb1f-453f-c38f-5c6c810890a8"
      },
      "execution_count": 17,
      "outputs": [
        {
          "output_type": "stream",
          "name": "stdout",
          "text": [
            "enter a number:3\n",
            "enter another:4\n",
            "sum of 3 and 4 is 7\n"
          ]
        }
      ]
    },
    {
      "cell_type": "code",
      "source": [
        "a=int(input(\"enter a number:\"))\n",
        "b=int(input(\"enter another:\"))\n",
        "print(f\"remainder of {a} and {b} is\",a%b)"
      ],
      "metadata": {
        "colab": {
          "base_uri": "https://localhost:8080/"
        },
        "id": "FW0VFzZ8IM95",
        "outputId": "93906f5d-52e1-4e9c-95cc-77316d985a5e"
      },
      "execution_count": 18,
      "outputs": [
        {
          "output_type": "stream",
          "name": "stdout",
          "text": [
            "enter a number:2\n",
            "enter another:4\n",
            "remainder of 2 and 4 is 2\n"
          ]
        }
      ]
    },
    {
      "cell_type": "code",
      "source": [
        "a=34\n",
        "b=80\n",
        "print(a>b)\n",
        "print(a<b)"
      ],
      "metadata": {
        "colab": {
          "base_uri": "https://localhost:8080/"
        },
        "id": "lBA5DY6LKfrg",
        "outputId": "26653333-1bb5-4991-b38e-4c9b537cc785"
      },
      "execution_count": 19,
      "outputs": [
        {
          "output_type": "stream",
          "name": "stdout",
          "text": [
            "False\n",
            "True\n"
          ]
        }
      ]
    },
    {
      "cell_type": "code",
      "source": [
        "a=int(input(\"enter a number:\"))\n",
        "b=int(input(\"enter another:\"))\n",
        "z= (a+b)/2\n",
        "print(f\"avg of {a} and {b} is {z}\")\n",
        "\n"
      ],
      "metadata": {
        "colab": {
          "base_uri": "https://localhost:8080/"
        },
        "id": "iwssA1TdLk6D",
        "outputId": "9c388903-1540-40cc-f543-20414eeb760f"
      },
      "execution_count": 20,
      "outputs": [
        {
          "output_type": "stream",
          "name": "stdout",
          "text": [
            "enter a number:3\n",
            "enter another:5\n",
            "avg of 3 and 5 is 4.0\n"
          ]
        }
      ]
    },
    {
      "cell_type": "code",
      "source": [
        "a= int(input(\"enter a number:\"))\n",
        "print(\"square of \",a,\"is\",a*a)"
      ],
      "metadata": {
        "colab": {
          "base_uri": "https://localhost:8080/"
        },
        "id": "R8QyuvXtQ-mf",
        "outputId": "6c587f6a-16ad-497e-a85c-32bb0008e981"
      },
      "execution_count": 21,
      "outputs": [
        {
          "output_type": "stream",
          "name": "stdout",
          "text": [
            "enter a number:2\n",
            "square of  2 is 4\n"
          ]
        }
      ]
    },
    {
      "cell_type": "markdown",
      "source": [
        "**strings**"
      ],
      "metadata": {
        "id": "6tkwZSmkh9R1"
      }
    },
    {
      "cell_type": "code",
      "source": [
        "a=\"mohit's\"\n",
        "b='''mohit\"s'''\n",
        "c='mohit'\n",
        "print(a,b,c)"
      ],
      "metadata": {
        "colab": {
          "base_uri": "https://localhost:8080/"
        },
        "id": "nVv7pH69RtYg",
        "outputId": "f4956bab-42af-4c6e-f7a3-748452e97b50"
      },
      "execution_count": 22,
      "outputs": [
        {
          "output_type": "stream",
          "name": "stdout",
          "text": [
            "mohit's mohit\"s mohit\n"
          ]
        }
      ]
    },
    {
      "cell_type": "code",
      "source": [
        "print(len(a))"
      ],
      "metadata": {
        "colab": {
          "base_uri": "https://localhost:8080/"
        },
        "id": "w5FfkFkrUNZK",
        "outputId": "d824952c-1522-4914-97a7-db46bc2fd421"
      },
      "execution_count": 23,
      "outputs": [
        {
          "output_type": "stream",
          "name": "stdout",
          "text": [
            "7\n"
          ]
        }
      ]
    },
    {
      "cell_type": "code",
      "source": [
        "print(a[:5])"
      ],
      "metadata": {
        "colab": {
          "base_uri": "https://localhost:8080/"
        },
        "id": "9ApPNLtGUboH",
        "outputId": "114cdae5-8b16-49af-8e8b-2444181c6e75"
      },
      "execution_count": 24,
      "outputs": [
        {
          "output_type": "stream",
          "name": "stdout",
          "text": [
            "mohit\n"
          ]
        }
      ]
    },
    {
      "cell_type": "code",
      "source": [
        "print(b[:])"
      ],
      "metadata": {
        "colab": {
          "base_uri": "https://localhost:8080/"
        },
        "id": "AC6kKZ7CVfMk",
        "outputId": "753c5941-bc6f-4b77-dff3-d05fb0ae2439"
      },
      "execution_count": 25,
      "outputs": [
        {
          "output_type": "stream",
          "name": "stdout",
          "text": [
            "mohit\"s\n"
          ]
        }
      ]
    },
    {
      "cell_type": "code",
      "source": [
        "print(a[-4:])"
      ],
      "metadata": {
        "colab": {
          "base_uri": "https://localhost:8080/"
        },
        "id": "oET-XYFtVo22",
        "outputId": "773d3658-47a5-4827-a179-1e2b8dd9c40b"
      },
      "execution_count": 26,
      "outputs": [
        {
          "output_type": "stream",
          "name": "stdout",
          "text": [
            "it's\n"
          ]
        }
      ]
    },
    {
      "cell_type": "code",
      "source": [
        "a=\"mohit\"\n",
        "b=\"joshi\"\n",
        "c=a + b\n",
        "print(c)"
      ],
      "metadata": {
        "colab": {
          "base_uri": "https://localhost:8080/"
        },
        "id": "pthnjyYIXe-e",
        "outputId": "c8aa16b0-a80c-45c4-b605-a23dfde6ffca"
      },
      "execution_count": 27,
      "outputs": [
        {
          "output_type": "stream",
          "name": "stdout",
          "text": [
            "mohitjoshi\n"
          ]
        }
      ]
    },
    {
      "cell_type": "code",
      "source": [
        "a=\"sauravjoshivlogs\"\n",
        "print(len(a[:5]))"
      ],
      "metadata": {
        "colab": {
          "base_uri": "https://localhost:8080/"
        },
        "id": "ZSv7ZcIAYPad",
        "outputId": "b0e85737-1743-4e50-d784-3ef4830204c4"
      },
      "execution_count": 28,
      "outputs": [
        {
          "output_type": "stream",
          "name": "stdout",
          "text": [
            "5\n"
          ]
        }
      ]
    },
    {
      "cell_type": "code",
      "source": [
        "# lenght of variable a\n",
        "len(a)"
      ],
      "metadata": {
        "colab": {
          "base_uri": "https://localhost:8080/"
        },
        "id": "3HkxK5qQ0x-d",
        "outputId": "a9e1c749-92e1-493c-e41c-33f55e36bd82"
      },
      "execution_count": 29,
      "outputs": [
        {
          "output_type": "execute_result",
          "data": {
            "text/plain": [
              "16"
            ]
          },
          "metadata": {},
          "execution_count": 29
        }
      ]
    },
    {
      "cell_type": "code",
      "source": [
        "print(len(a[:]))"
      ],
      "metadata": {
        "colab": {
          "base_uri": "https://localhost:8080/"
        },
        "id": "FLzZTS1UYoc6",
        "outputId": "daa0d5ef-c2a5-4359-9e6b-8e183285abc1"
      },
      "execution_count": 30,
      "outputs": [
        {
          "output_type": "stream",
          "name": "stdout",
          "text": [
            "16\n"
          ]
        }
      ]
    },
    {
      "cell_type": "code",
      "source": [
        "print(a[-1:])"
      ],
      "metadata": {
        "colab": {
          "base_uri": "https://localhost:8080/"
        },
        "id": "EUAfFFSmY4KS",
        "outputId": "70937045-1475-44c2-ced7-8bd9d33e92de"
      },
      "execution_count": 31,
      "outputs": [
        {
          "output_type": "stream",
          "name": "stdout",
          "text": [
            "s\n"
          ]
        }
      ]
    },
    {
      "cell_type": "code",
      "source": [
        "print(a[-1:15])"
      ],
      "metadata": {
        "colab": {
          "base_uri": "https://localhost:8080/"
        },
        "id": "_VnY7NKtaJON",
        "outputId": "2d7612b1-11c0-4adc-a45f-6e5fa39bf3f5"
      },
      "execution_count": 32,
      "outputs": [
        {
          "output_type": "stream",
          "name": "stdout",
          "text": [
            "\n"
          ]
        }
      ]
    },
    {
      "cell_type": "code",
      "source": [
        "a=('''Twinkle, twinkle, little star,\n",
        "How I wonder what you are!\n",
        "Up above the world so high,\n",
        "Like a diamond in the sky.\n",
        "\n",
        "When the blazing sun is gone,\n",
        "When he nothing shines upon,\n",
        "Then you show your little light,\n",
        "Twinkle, twinkle, all the night.\n",
        "\n",
        "Then the traveler in the dark\n",
        "Thanks you for your tiny spark,\n",
        "How could he see where to go,\n",
        "If you did not twinkle so?\n",
        "\n",
        "In the dark blue sky you keep,\n",
        "Often through my curtains peep\n",
        "For you never shut your eye,\n",
        "Till the sun is in the sky.\n",
        "\n",
        "As your bright and tiny spark\n",
        "Lights the traveler in the dark,\n",
        "Though I know not what you are,\n",
        "Twinkle, twinkle, little star.''')"
      ],
      "metadata": {
        "id": "Ui8GpUukbh7c"
      },
      "execution_count": 33,
      "outputs": []
    },
    {
      "cell_type": "code",
      "source": [
        "print(len(a))"
      ],
      "metadata": {
        "colab": {
          "base_uri": "https://localhost:8080/"
        },
        "id": "NJdf0tnPclWq",
        "outputId": "b9c9736a-14b7-4e1f-8faf-b41c79c71c87"
      },
      "execution_count": 34,
      "outputs": [
        {
          "output_type": "stream",
          "name": "stdout",
          "text": [
            "605\n"
          ]
        }
      ]
    },
    {
      "cell_type": "code",
      "source": [
        "# slicing strings with the gap of 5\n",
        "\n",
        "print(a[::5])"
      ],
      "metadata": {
        "colab": {
          "base_uri": "https://localhost:8080/"
        },
        "id": "jQ48_f7IcoFS",
        "outputId": "9100e8c8-b956-49ae-9e5a-715bea7e49d0"
      },
      "execution_count": 35,
      "outputs": [
        {
          "output_type": "stream",
          "name": "stdout",
          "text": [
            "Tlwets\n",
            "Idhoe e dh\n",
            " a hyhha inhehssneuwrti\n",
            "ktllehTtre dTs yts, dsht,yitnsIeke k\n",
            "nomrsp n   \n",
            " sstkAuiaipLs eiekoIw  aTlwets\n"
          ]
        }
      ]
    },
    {
      "cell_type": "code",
      "source": [
        "print(a.endswith(\"star.\"))"
      ],
      "metadata": {
        "colab": {
          "base_uri": "https://localhost:8080/"
        },
        "id": "KATMGDltcsjR",
        "outputId": "c89fd112-709b-48ed-dd2b-87155d1890b6"
      },
      "execution_count": 36,
      "outputs": [
        {
          "output_type": "stream",
          "name": "stdout",
          "text": [
            "True\n"
          ]
        }
      ]
    },
    {
      "cell_type": "code",
      "source": [
        "print(a.startswith(\"Twinle\"))"
      ],
      "metadata": {
        "colab": {
          "base_uri": "https://localhost:8080/"
        },
        "id": "2RJ_OYuVd5Kv",
        "outputId": "3f362694-da3c-44db-93ac-73a488e0ff29"
      },
      "execution_count": 37,
      "outputs": [
        {
          "output_type": "stream",
          "name": "stdout",
          "text": [
            "False\n"
          ]
        }
      ]
    },
    {
      "cell_type": "code",
      "source": [
        "print(a.count(\"a\"))"
      ],
      "metadata": {
        "colab": {
          "base_uri": "https://localhost:8080/"
        },
        "id": "YUk06vaBeHrR",
        "outputId": "6e19ccec-30ca-43c4-b235-2ddac8fd0a8d"
      },
      "execution_count": 38,
      "outputs": [
        {
          "output_type": "stream",
          "name": "stdout",
          "text": [
            "21\n"
          ]
        }
      ]
    },
    {
      "cell_type": "code",
      "source": [
        "print(a.count(\" \"))\n",
        "print(a.count(\"Twinkle\"))\n"
      ],
      "metadata": {
        "colab": {
          "base_uri": "https://localhost:8080/"
        },
        "id": "jI1HVzsge1A5",
        "outputId": "298e4580-838a-4ef6-d247-b7b6072a72e3"
      },
      "execution_count": 39,
      "outputs": [
        {
          "output_type": "stream",
          "name": "stdout",
          "text": [
            "97\n",
            "3\n"
          ]
        }
      ]
    },
    {
      "cell_type": "code",
      "source": [
        "print(a.find(\"star\"))"
      ],
      "metadata": {
        "colab": {
          "base_uri": "https://localhost:8080/"
        },
        "id": "4A8s-NmEfHbx",
        "outputId": "54364b18-aebf-49f8-b4a4-2d6a24dd121b"
      },
      "execution_count": 40,
      "outputs": [
        {
          "output_type": "stream",
          "name": "stdout",
          "text": [
            "25\n"
          ]
        }
      ]
    },
    {
      "cell_type": "code",
      "source": [
        "print(a.replace(\"twinkle\",\"hero\"))"
      ],
      "metadata": {
        "colab": {
          "base_uri": "https://localhost:8080/"
        },
        "id": "nsxo1tAGi5v9",
        "outputId": "6535ec0d-f0b7-4c84-cd3d-eca423d98d05"
      },
      "execution_count": 41,
      "outputs": [
        {
          "output_type": "stream",
          "name": "stdout",
          "text": [
            "Twinkle, hero, little star,\n",
            "How I wonder what you are!\n",
            "Up above the world so high,\n",
            "Like a diamond in the sky.\n",
            "\n",
            "When the blazing sun is gone,\n",
            "When he nothing shines upon,\n",
            "Then you show your little light,\n",
            "Twinkle, hero, all the night.\n",
            "\n",
            "Then the traveler in the dark\n",
            "Thanks you for your tiny spark,\n",
            "How could he see where to go,\n",
            "If you did not hero so?\n",
            "\n",
            "In the dark blue sky you keep,\n",
            "Often through my curtains peep\n",
            "For you never shut your eye,\n",
            "Till the sun is in the sky.\n",
            "\n",
            "As your bright and tiny spark\n",
            "Lights the traveler in the dark,\n",
            "Though I know not what you are,\n",
            "Twinkle, hero, little star.\n"
          ]
        }
      ]
    },
    {
      "cell_type": "markdown",
      "source": [
        "**escape sequnce character**"
      ],
      "metadata": {
        "id": "0N-QDt29kIMI"
      }
    },
    {
      "cell_type": "code",
      "source": [
        "a=\"Lost key, mysterious map.\\n Trekked dense forest, bypassed ancient riddles. Unearthed hidden cave.\\n Glowing crystals unveiled forgotten realm, guarded secrets.\\n Demanded courage, tested friendship. Unraveled prophecy, saved land from darkness. \\n Returned, changed forever.\""
      ],
      "metadata": {
        "id": "Z5U3x8iljwuq"
      },
      "execution_count": 42,
      "outputs": []
    },
    {
      "cell_type": "code",
      "source": [
        "print(a)"
      ],
      "metadata": {
        "colab": {
          "base_uri": "https://localhost:8080/"
        },
        "id": "rGEwjOBvkp5J",
        "outputId": "931f4161-f41c-436d-85e6-209279701f84"
      },
      "execution_count": 43,
      "outputs": [
        {
          "output_type": "stream",
          "name": "stdout",
          "text": [
            "Lost key, mysterious map.\n",
            " Trekked dense forest, bypassed ancient riddles. Unearthed hidden cave.\n",
            " Glowing crystals unveiled forgotten realm, guarded secrets.\n",
            " Demanded courage, tested friendship. Unraveled prophecy, saved land from darkness. \n",
            " Returned, changed forever.\n"
          ]
        }
      ]
    },
    {
      "cell_type": "code",
      "source": [
        "a='''lost key, mysterious map.\n",
        " Trekked dense forest, bypassed ancient riddles. Unearthed hidden cave.\n",
        "Glowing crystals unveiled forgotten realm, guarded secrets.\n",
        " Demanded courage, tested friendship. Unraveled prophecy, saved land from darkness\n",
        " Returned, changed forever'''"
      ],
      "metadata": {
        "id": "gSii3LBUkrRQ"
      },
      "execution_count": 44,
      "outputs": []
    },
    {
      "cell_type": "code",
      "source": [
        "print(a)"
      ],
      "metadata": {
        "colab": {
          "base_uri": "https://localhost:8080/"
        },
        "id": "y6iDZ49tk4iO",
        "outputId": "8488658f-35b7-4bed-889d-af1e7ef72965"
      },
      "execution_count": 45,
      "outputs": [
        {
          "output_type": "stream",
          "name": "stdout",
          "text": [
            "lost key, mysterious map.\n",
            " Trekked dense forest, bypassed ancient riddles. Unearthed hidden cave.\n",
            "Glowing crystals unveiled forgotten realm, guarded secrets.\n",
            " Demanded courage, tested friendship. Unraveled prophecy, saved land from darkness\n",
            " Returned, changed forever\n"
          ]
        }
      ]
    },
    {
      "cell_type": "code",
      "source": [
        "a=\"Lost key, mysterious map.\\n\\t Trekked dense forest, bypassed ancient riddles. Unearthed hidden cave.\\n\\t Glowing crystals unveiled forgotten realm, guarded secrets.\\n\\t Demanded courage, tested friendship. Unraveled prophecy, saved land from darkness. \\t Returned, changed forever.\""
      ],
      "metadata": {
        "id": "wvL_3Yw4k6rL"
      },
      "execution_count": 46,
      "outputs": []
    },
    {
      "cell_type": "code",
      "source": [
        "print(a)"
      ],
      "metadata": {
        "colab": {
          "base_uri": "https://localhost:8080/"
        },
        "id": "y98s40-VlOMK",
        "outputId": "7b37ed52-f7ed-4157-8e44-40491b8961ff"
      },
      "execution_count": 47,
      "outputs": [
        {
          "output_type": "stream",
          "name": "stdout",
          "text": [
            "Lost key, mysterious map.\n",
            "\t Trekked dense forest, bypassed ancient riddles. Unearthed hidden cave.\n",
            "\t Glowing crystals unveiled forgotten realm, guarded secrets.\n",
            "\t Demanded courage, tested friendship. Unraveled prophecy, saved land from darkness. \t Returned, changed forever.\n"
          ]
        }
      ]
    },
    {
      "cell_type": "markdown",
      "source": [
        "**practice questions**\n"
      ],
      "metadata": {
        "id": "gGnDQXL5LLEV"
      }
    },
    {
      "cell_type": "code",
      "source": [
        "a= input(\"enter your name:\")\n",
        "b=\"good afternoon\"\n",
        "print(f\"{b} {a}\")"
      ],
      "metadata": {
        "colab": {
          "base_uri": "https://localhost:8080/"
        },
        "id": "V7duAi96lPns",
        "outputId": "e42f10a5-249c-41bb-d84c-67c0a9156dc5"
      },
      "execution_count": 48,
      "outputs": [
        {
          "output_type": "stream",
          "name": "stdout",
          "text": [
            "enter your name:5\n",
            "good afternoon 5\n"
          ]
        }
      ]
    },
    {
      "cell_type": "code",
      "source": [
        "a= input(\"enter your name:\")\n",
        "b=\"good afternoon  \"\n",
        "print(b+a)"
      ],
      "metadata": {
        "colab": {
          "base_uri": "https://localhost:8080/"
        },
        "id": "mv9IV7hZl0KJ",
        "outputId": "d48fe518-caa0-4254-d0e9-524b37ddf830"
      },
      "execution_count": 49,
      "outputs": [
        {
          "output_type": "stream",
          "name": "stdout",
          "text": [
            "enter your name:mohit\n",
            "good afternoon  mohit\n"
          ]
        }
      ]
    },
    {
      "cell_type": "code",
      "source": [
        "name= input(\"Enter Your Name:-\")\n",
        "date= input(\"Enter your date:-\")\n",
        "print(f'''dear {name}\n",
        "you are selected!\n",
        "{date}''')\n",
        "\n"
      ],
      "metadata": {
        "colab": {
          "base_uri": "https://localhost:8080/"
        },
        "id": "jVVNzOr1mSvf",
        "outputId": "4799d91f-2401-4a8a-8ce3-929beb7d9e29"
      },
      "execution_count": 50,
      "outputs": [
        {
          "output_type": "stream",
          "name": "stdout",
          "text": [
            "Enter Your Name:-Mohit\n",
            "Enter your date:-23/08/2023\n",
            "dear Mohit\n",
            "you are selected!\n",
            "23/08/2023\n"
          ]
        }
      ]
    },
    {
      "cell_type": "code",
      "source": [
        "name= input(\"Enter Your Name:-\")\n",
        "date= input(\"Enter your date:-\")\n",
        "c='''dear {n}\n",
        "you are selected!\n",
        "{d}'''\n",
        "c=c.replace(\"{n}\",name)\n",
        "c=c.replace(\"{d}\",date)\n",
        "print(c)\n"
      ],
      "metadata": {
        "colab": {
          "base_uri": "https://localhost:8080/"
        },
        "id": "Qj1R77SIMlHx",
        "outputId": "255b9890-d101-4a5b-bf07-1b605467a030"
      },
      "execution_count": 51,
      "outputs": [
        {
          "output_type": "stream",
          "name": "stdout",
          "text": [
            "Enter Your Name:-Mohit\n",
            "Enter your date:-23/08/2023\n",
            "dear Mohit\n",
            "you are selected!\n",
            "23/08/2023\n"
          ]
        }
      ]
    },
    {
      "cell_type": "code",
      "source": [
        "a='''Lost key, mysterious map.\n",
        " Trekked dense forest, bypassed ancient riddles. Unearthed hidden cave.\n",
        " Glowing crystals unveiled forgotten realm, guarded secrets.\n",
        " Demanded courage, tested friendship. Unraveled prophecy, saved land from darkness.\n",
        " Returned, changed forever.'''\n",
        "a=a.count(\" \")\n",
        "print(a)"
      ],
      "metadata": {
        "colab": {
          "base_uri": "https://localhost:8080/"
        },
        "id": "KXvH9z3QPPp4",
        "outputId": "ba85da5b-87d6-454b-c6a6-d88f13dbeba9"
      },
      "execution_count": 52,
      "outputs": [
        {
          "output_type": "stream",
          "name": "stdout",
          "text": [
            "32\n"
          ]
        }
      ]
    },
    {
      "cell_type": "code",
      "source": [
        "b='''Lost key, mysterious map.\n",
        " Trekked dense forest, bypassed ancient riddles. Unearthed hidden cave.\n",
        " Glowing crystals unveiled forgotten realm, guarded secrets.\n",
        " Demanded courage, tested friendship. Unraveled prophecy, saved land from darkness.\n",
        " Returned, changed forever'''\n",
        "b= b.find(\" \")\n",
        "print(b)"
      ],
      "metadata": {
        "colab": {
          "base_uri": "https://localhost:8080/"
        },
        "id": "Ki0JY6yURwuc",
        "outputId": "3a7761e6-0c57-4cc2-8f45-68c8451dc810"
      },
      "execution_count": 53,
      "outputs": [
        {
          "output_type": "stream",
          "name": "stdout",
          "text": [
            "4\n"
          ]
        }
      ]
    },
    {
      "cell_type": "code",
      "source": [
        "c='''Lost key, mysterious map.\n",
        " Trekked dense forest, bypassed ancient riddles. Unearthed hidden cave.\n",
        " Glowing crystals unveiled forgotten realm, guarded secrets.\n",
        " Demanded courage, tested friendship. Unraveled prophecy, saved land from darkness.\n",
        " Returned, changed forever'''\n",
        "c=c.replace(\" \",\"       \")\n",
        "print(c)"
      ],
      "metadata": {
        "colab": {
          "base_uri": "https://localhost:8080/"
        },
        "id": "RsdughD_S8c4",
        "outputId": "1e0af598-f394-4244-8cae-f9bc7505efcc"
      },
      "execution_count": 54,
      "outputs": [
        {
          "output_type": "stream",
          "name": "stdout",
          "text": [
            "Lost       key,       mysterious       map.\n",
            "       Trekked       dense       forest,       bypassed       ancient       riddles.       Unearthed       hidden       cave.\n",
            "       Glowing       crystals       unveiled       forgotten       realm,       guarded       secrets.\n",
            "       Demanded       courage,       tested       friendship.       Unraveled       prophecy,       saved       land       from       darkness.\n",
            "       Returned,       changed       forever\n"
          ]
        }
      ]
    },
    {
      "cell_type": "code",
      "source": [
        "# string ends with abb\n",
        "\n",
        "a=input(\"enter a srting:\")\n",
        "a=list(a)\n",
        "if a[-1]==\"b\" and a[-2]==\"b\" and a[-3]==\"a\":\n",
        "  print(\"valid string \")\n",
        "else:\n",
        "  print(\"invalid string \")\n",
        "\n"
      ],
      "metadata": {
        "id": "Yp1chpLz_6LI",
        "colab": {
          "base_uri": "https://localhost:8080/"
        },
        "outputId": "41e1999e-ce22-42b7-fe89-b7bdeb49f6cb"
      },
      "execution_count": 59,
      "outputs": [
        {
          "output_type": "stream",
          "name": "stdout",
          "text": [
            "enter a srting:mohitabcabb\n",
            "valid string \n"
          ]
        }
      ]
    },
    {
      "cell_type": "code",
      "source": [],
      "metadata": {
        "id": "71XALzLZ73as"
      },
      "execution_count": null,
      "outputs": []
    }
  ]
}