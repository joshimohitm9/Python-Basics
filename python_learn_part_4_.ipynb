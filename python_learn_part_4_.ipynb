{
  "nbformat": 4,
  "nbformat_minor": 0,
  "metadata": {
    "colab": {
      "provenance": [],
      "authorship_tag": "ABX9TyMIHhPyDP1tuAUJGIkya9ZT",
      "include_colab_link": true
    },
    "kernelspec": {
      "name": "python3",
      "display_name": "Python 3"
    },
    "language_info": {
      "name": "python"
    }
  },
  "cells": [
    {
      "cell_type": "markdown",
      "metadata": {
        "id": "view-in-github",
        "colab_type": "text"
      },
      "source": [
        "<a href=\"https://colab.research.google.com/github/joshimohitm9/Python-Basics/blob/main/python_learn_part_4_.ipynb\" target=\"_parent\"><img src=\"https://colab.research.google.com/assets/colab-badge.svg\" alt=\"Open In Colab\"/></a>"
      ]
    },
    {
      "cell_type": "markdown",
      "source": [
        "**Basic Programming Questions**\n"
      ],
      "metadata": {
        "id": "zvAdIhOVZzxL"
      }
    },
    {
      "cell_type": "code",
      "execution_count": 1,
      "metadata": {
        "colab": {
          "base_uri": "https://localhost:8080/"
        },
        "id": "6Z9n03E8ZucW",
        "outputId": "c725fc2d-be25-4ac8-8f18-db4d71679ff1"
      },
      "outputs": [
        {
          "output_type": "stream",
          "name": "stdout",
          "text": [
            "enter a number :45\n",
            "odd number\n"
          ]
        }
      ],
      "source": [
        "# progarm for even or odd numer\n",
        "a= int(input(\"enter a number :\"))\n",
        "if(a%2==0):\n",
        "  print(\"even number\")\n",
        "else:\n",
        "  print(\"odd number\")"
      ]
    },
    {
      "cell_type": "code",
      "source": [
        "a=int(input(\"enter a number :\"))\n",
        "i=1\n",
        "c=0\n",
        "while(i<=a):\n",
        "  c=c+i\n",
        "  print(c)\n",
        "  i=i+1\n",
        "# sum of natural numer usingg while loop"
      ],
      "metadata": {
        "colab": {
          "base_uri": "https://localhost:8080/"
        },
        "id": "d_FpKWY1aBfM",
        "outputId": "f5ff624e-ea8c-40eb-e19b-dfb5b256071e"
      },
      "execution_count": 2,
      "outputs": [
        {
          "output_type": "stream",
          "name": "stdout",
          "text": [
            "enter a number :10\n",
            "1\n",
            "3\n",
            "6\n",
            "10\n",
            "15\n",
            "21\n",
            "28\n",
            "36\n",
            "45\n",
            "55\n"
          ]
        }
      ]
    },
    {
      "cell_type": "code",
      "source": [
        "n= int(input(\"enter a number :\"))\n",
        "a=1\n",
        "for i in range(1,n+1):\n",
        "  a=a*i\n",
        "print(\"factorial is \",a)"
      ],
      "metadata": {
        "colab": {
          "base_uri": "https://localhost:8080/"
        },
        "id": "_hPLLoMTaIi0",
        "outputId": "c49daaf6-391c-4a62-b4c2-e4a6de1f19da"
      },
      "execution_count": 3,
      "outputs": [
        {
          "output_type": "stream",
          "name": "stdout",
          "text": [
            "enter a number :5\n",
            "factorial is  120\n"
          ]
        }
      ]
    },
    {
      "cell_type": "code",
      "source": [
        "n= int(input(\"enter a number :\"))\n",
        "a=1\n",
        "for i in range(1,n+1):\n",
        "  a=a*i\n",
        "i=n\n",
        "while(i>=1):\n",
        "  print(f\"{i}\",end=' X ')\n",
        "  i=i-1\n",
        "\n",
        "print(\"factorial is \",a)"
      ],
      "metadata": {
        "colab": {
          "base_uri": "https://localhost:8080/"
        },
        "id": "s0Z-U4XaaRkw",
        "outputId": "a6e6905c-3ebc-415b-cc06-ec541291b941"
      },
      "execution_count": 4,
      "outputs": [
        {
          "output_type": "stream",
          "name": "stdout",
          "text": [
            "enter a number :5\n",
            "5 X 4 X 3 X 2 X 1 X factorial is  120\n"
          ]
        }
      ]
    },
    {
      "cell_type": "code",
      "source": [
        "# Pattern Questions\n",
        "\n",
        "for i in range(4):\n",
        "  print(\"*\" *i)\n"
      ],
      "metadata": {
        "colab": {
          "base_uri": "https://localhost:8080/"
        },
        "id": "ySD1vVOlaT3_",
        "outputId": "12972437-9444-43a4-95fd-601ffaa0e376"
      },
      "execution_count": 5,
      "outputs": [
        {
          "output_type": "stream",
          "name": "stdout",
          "text": [
            "\n",
            "*\n",
            "**\n",
            "***\n"
          ]
        }
      ]
    },
    {
      "cell_type": "code",
      "source": [
        "for i in range(4):\n",
        "  print(\"*\" *i)\n",
        "for j in range(4,0,-1):\n",
        "    print(\"*\" *j)"
      ],
      "metadata": {
        "colab": {
          "base_uri": "https://localhost:8080/"
        },
        "id": "bAJFH59IadOD",
        "outputId": "cdb39612-5b0d-4305-ca17-0f4791d1243f"
      },
      "execution_count": 6,
      "outputs": [
        {
          "output_type": "stream",
          "name": "stdout",
          "text": [
            "\n",
            "*\n",
            "**\n",
            "***\n",
            "****\n",
            "***\n",
            "**\n",
            "*\n"
          ]
        }
      ]
    },
    {
      "cell_type": "code",
      "source": [
        "n=3\n",
        "for i in range(3):\n",
        "  print(\" \"*(n-i-1),end=\"\")\n",
        "  print(\"*\" * (2*i+1),end=\"\")\n",
        "  print(\" \"*(n-i-1))\n"
      ],
      "metadata": {
        "colab": {
          "base_uri": "https://localhost:8080/"
        },
        "id": "sblWVT3SafdF",
        "outputId": "0b2a5dda-66ef-41ff-f238-cc41a16dd691"
      },
      "execution_count": 7,
      "outputs": [
        {
          "output_type": "stream",
          "name": "stdout",
          "text": [
            "  *  \n",
            " *** \n",
            "*****\n"
          ]
        }
      ]
    },
    {
      "cell_type": "code",
      "source": [
        "m=5\n",
        "for j in range(5,2,-1):\n",
        "  print(\" \" *(m-j),end=\"\")\n",
        "  print(\"*\" *(2*j-m),end=\"\")\n",
        "  print(\" \" *(m-j+1))"
      ],
      "metadata": {
        "colab": {
          "base_uri": "https://localhost:8080/"
        },
        "id": "JdUBCnNmainu",
        "outputId": "8d442abb-de8e-4434-9c9e-aa64c13c6f67"
      },
      "execution_count": 8,
      "outputs": [
        {
          "output_type": "stream",
          "name": "stdout",
          "text": [
            "***** \n",
            " ***  \n",
            "  *   \n"
          ]
        }
      ]
    },
    {
      "cell_type": "code",
      "source": [
        "n=3\n",
        "for i in range(3):\n",
        "  print(\" \"*(n-i-1),end=\"\")\n",
        "  print(\"*\" * (2*i+1),end=\"\")\n",
        "  print(\" \"*(n-i-1))\n",
        "m=5\n",
        "for j in range(5,2,-1):\n",
        "  print(\" \" *(m-j),end=\"\")\n",
        "  print(\"*\" *(2*j-m),end=\"\")\n",
        "  print(\" \" *(m-j+1))"
      ],
      "metadata": {
        "colab": {
          "base_uri": "https://localhost:8080/"
        },
        "id": "W-8L3UgIan3-",
        "outputId": "d07ea5b4-d9f7-4bb1-d003-20f615ce5604"
      },
      "execution_count": 9,
      "outputs": [
        {
          "output_type": "stream",
          "name": "stdout",
          "text": [
            "  *  \n",
            " *** \n",
            "*****\n",
            "***** \n",
            " ***  \n",
            "  *   \n"
          ]
        }
      ]
    },
    {
      "cell_type": "code",
      "source": [
        "for i in range(1):\n",
        "  print(\"* *\",end=\" \")\n",
        "  print(\"*\")\n",
        "  print(\"*  \",end=\" \")\n",
        "  print(\"*\")\n",
        "  print(\"* *\",end=\" \")\n",
        "  print(\"*\")\n"
      ],
      "metadata": {
        "colab": {
          "base_uri": "https://localhost:8080/"
        },
        "id": "MqRyRw_7aqjW",
        "outputId": "12856d72-0bb4-4322-fd62-6e15d6be4589"
      },
      "execution_count": 10,
      "outputs": [
        {
          "output_type": "stream",
          "name": "stdout",
          "text": [
            "* * *\n",
            "*   *\n",
            "* * *\n"
          ]
        }
      ]
    },
    {
      "cell_type": "code",
      "source": [
        "n=5\n",
        "for i in range(3):\n",
        "  print(\"*\" *(n-i-2))"
      ],
      "metadata": {
        "colab": {
          "base_uri": "https://localhost:8080/"
        },
        "id": "_q9HjivabKch",
        "outputId": "8097c1af-a97c-4520-928a-d8fee49d6f4d"
      },
      "execution_count": 11,
      "outputs": [
        {
          "output_type": "stream",
          "name": "stdout",
          "text": [
            "***\n",
            "**\n",
            "*\n"
          ]
        }
      ]
    },
    {
      "cell_type": "markdown",
      "source": [
        "**Tables**"
      ],
      "metadata": {
        "id": "vHQm2jnUbRBt"
      }
    },
    {
      "cell_type": "code",
      "source": [
        "a=int(input(\"Enter :-\"))\n",
        "for i in range(1,11):\n",
        " print(a,\"X\",i,\"=\",a*i)"
      ],
      "metadata": {
        "colab": {
          "base_uri": "https://localhost:8080/"
        },
        "id": "cXcC7Nz8bNVi",
        "outputId": "bb52a6d5-b65a-420b-cbd3-4b8d4ba1d921"
      },
      "execution_count": 12,
      "outputs": [
        {
          "output_type": "stream",
          "name": "stdout",
          "text": [
            "Enter :-3\n",
            "3 X 1 = 3\n",
            "3 X 2 = 6\n",
            "3 X 3 = 9\n",
            "3 X 4 = 12\n",
            "3 X 5 = 15\n",
            "3 X 6 = 18\n",
            "3 X 7 = 21\n",
            "3 X 8 = 24\n",
            "3 X 9 = 27\n",
            "3 X 10 = 30\n"
          ]
        }
      ]
    },
    {
      "cell_type": "code",
      "source": [
        "# a= int(input(\"enter a number:\"))\n",
        "\n",
        "a=5\n",
        "for i in range(10,0,-1):\n",
        "  print(f\"{a} X {i} = {a*i}\")"
      ],
      "metadata": {
        "colab": {
          "base_uri": "https://localhost:8080/"
        },
        "id": "e4FHGnZras6C",
        "outputId": "dcc8572f-4bf5-496d-ba12-876d82f93686"
      },
      "execution_count": 13,
      "outputs": [
        {
          "output_type": "stream",
          "name": "stdout",
          "text": [
            "5 X 10 = 50\n",
            "5 X 9 = 45\n",
            "5 X 8 = 40\n",
            "5 X 7 = 35\n",
            "5 X 6 = 30\n",
            "5 X 5 = 25\n",
            "5 X 4 = 20\n",
            "5 X 3 = 15\n",
            "5 X 2 = 10\n",
            "5 X 1 = 5\n"
          ]
        }
      ]
    },
    {
      "cell_type": "markdown",
      "source": [
        "**Function**"
      ],
      "metadata": {
        "id": "1bFupmCua2az"
      }
    },
    {
      "cell_type": "code",
      "source": [
        "def ger(a=0,b=0,c=0,d=0):\n",
        " if(a>b and a>c and a>d):\n",
        "   print(f\"biggest number is {a}\")\n",
        " elif(b>a and b>c and c>d):\n",
        "   print(f\"biggest number is {b}\")\n",
        " elif(c>a and c>b and c>d):\n",
        "   print(f\"biggest number is {c}\")\n",
        " else:\n",
        "   print(f\"biggest number is {d}\")\n",
        "\n",
        "ger(1,2,3,4)"
      ],
      "metadata": {
        "colab": {
          "base_uri": "https://localhost:8080/"
        },
        "id": "WhsIge5nau44",
        "outputId": "31dd44a9-4037-420e-e30f-cf11d65c6fef"
      },
      "execution_count": 14,
      "outputs": [
        {
          "output_type": "stream",
          "name": "stdout",
          "text": [
            "biggest number is 4\n"
          ]
        }
      ]
    },
    {
      "cell_type": "code",
      "source": [
        "def fuc(Celsius):\n",
        "  Fahrenheit= Celsius* 9/5 + 32\n",
        "  print(\"Fahrenheit :\",Fahrenheit)\n",
        "fuc(45)"
      ],
      "metadata": {
        "colab": {
          "base_uri": "https://localhost:8080/"
        },
        "id": "vgkVqj5vaxIA",
        "outputId": "22fd946b-de6f-4283-ae12-3703a9200311"
      },
      "execution_count": 15,
      "outputs": [
        {
          "output_type": "stream",
          "name": "stdout",
          "text": [
            "Fahrenheit : 113.0\n"
          ]
        }
      ]
    },
    {
      "cell_type": "code",
      "source": [
        "def sum(n):\n",
        "  if n==0:\n",
        "      return 0\n",
        "  i=n+sum(n-1)\n",
        "  return i\n",
        "\n",
        "sum(55)"
      ],
      "metadata": {
        "colab": {
          "base_uri": "https://localhost:8080/"
        },
        "id": "LRTiRdWla8ou",
        "outputId": "fb6c689f-8b29-4fe2-f5e8-20c2d100b7c2"
      },
      "execution_count": 16,
      "outputs": [
        {
          "output_type": "execute_result",
          "data": {
            "text/plain": [
              "1540"
            ]
          },
          "metadata": {},
          "execution_count": 16
        }
      ]
    }
  ]
}