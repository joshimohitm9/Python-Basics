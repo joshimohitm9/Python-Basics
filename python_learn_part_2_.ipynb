{
  "nbformat": 4,
  "nbformat_minor": 0,
  "metadata": {
    "colab": {
      "provenance": [],
      "authorship_tag": "ABX9TyPPSISsWw9TYOXeew8K4DtY",
      "include_colab_link": true
    },
    "kernelspec": {
      "name": "python3",
      "display_name": "Python 3"
    },
    "language_info": {
      "name": "python"
    }
  },
  "cells": [
    {
      "cell_type": "markdown",
      "metadata": {
        "id": "view-in-github",
        "colab_type": "text"
      },
      "source": [
        "<a href=\"https://colab.research.google.com/github/joshimohitm9/Python-Basics/blob/main/python_learn_part_2_.ipynb\" target=\"_parent\"><img src=\"https://colab.research.google.com/assets/colab-badge.svg\" alt=\"Open In Colab\"/></a>"
      ]
    },
    {
      "cell_type": "markdown",
      "source": [
        "**list**"
      ],
      "metadata": {
        "id": "NfaeVDr6x72k"
      }
    },
    {
      "cell_type": "code",
      "execution_count": 1,
      "metadata": {
        "colab": {
          "base_uri": "https://localhost:8080/"
        },
        "id": "nbbkDNOwx2sH",
        "outputId": "ae518727-d9b6-4879-f572-ae9a619559d9"
      },
      "outputs": [
        {
          "output_type": "stream",
          "name": "stdout",
          "text": [
            "[2, 4, 9, 1]\n"
          ]
        }
      ],
      "source": [
        "# In Python, a list is a collection of items that are ordered and mutable (changeable).\n",
        "a=[1,2,33,4,24,9,23434,1,2,41,24,11,134,98,2]\n",
        "print(a[1:8:2])"
      ]
    },
    {
      "cell_type": "code",
      "source": [
        "# Slicing a list\n",
        "print(a[::4],\"----Slicing a list\")\n",
        "print(a[8],\"----is at the 8th place in the list\")\n",
        "print(a[-8:],\"----count the 8th digit from last consider as -8th value\")\n",
        "print(a[1::8],\"---- printing values from 1 to last with thw gap of 8 \")"
      ],
      "metadata": {
        "colab": {
          "base_uri": "https://localhost:8080/"
        },
        "id": "wcf56k1eySnZ",
        "outputId": "f6c477b3-f7a3-4fb4-d7ca-9ef80f38da16"
      },
      "execution_count": 2,
      "outputs": [
        {
          "output_type": "stream",
          "name": "stdout",
          "text": [
            "[1, 24, 2, 134] ----Slicing a list\n",
            "2 ----is at the 8th place in the list\n",
            "[1, 2, 41, 24, 11, 134, 98, 2] ----count the 8th digit from last consider as -8th value\n",
            "[2, 41] ---- printing values from 1 to last with thw gap of 8 \n"
          ]
        }
      ]
    },
    {
      "cell_type": "code",
      "source": [
        "print(a)"
      ],
      "metadata": {
        "colab": {
          "base_uri": "https://localhost:8080/"
        },
        "id": "aUsM7LUJyyMe",
        "outputId": "e0e21bd9-3d73-4d44-d45f-3635e2f6c4ee"
      },
      "execution_count": 3,
      "outputs": [
        {
          "output_type": "stream",
          "name": "stdout",
          "text": [
            "[1, 2, 33, 4, 24, 9, 23434, 1, 2, 41, 24, 11, 134, 98, 2]\n"
          ]
        }
      ]
    },
    {
      "cell_type": "code",
      "source": [
        "# the python lists are mutable\n",
        "a[6]=76\n",
        "print(a)"
      ],
      "metadata": {
        "colab": {
          "base_uri": "https://localhost:8080/"
        },
        "id": "-DLelVLRzDuJ",
        "outputId": "58d1bf24-9ea8-4579-845a-7e539aa6cf0d"
      },
      "execution_count": 4,
      "outputs": [
        {
          "output_type": "stream",
          "name": "stdout",
          "text": [
            "[1, 2, 33, 4, 24, 9, 76, 1, 2, 41, 24, 11, 134, 98, 2]\n"
          ]
        }
      ]
    },
    {
      "cell_type": "code",
      "source": [
        "a=[1,6,7,8,2,3,4,5,9]\n",
        "print(a)\n",
        "a.sort() # sort in incresing order\n",
        "print(a)\n",
        "a.reverse() #reverse a list\n",
        "print(a)\n",
        "a.append(2) #adding a number at list\n",
        "print(a)\n",
        "a.remove(3) #remove the number from list\n",
        "print(a)\n",
        "a.insert(2,22) #inserting a number at index no 2\n",
        "print(a)\n",
        "a.pop(2) #pop from indx no 2\n",
        "print(a)\n",
        "a.clear() #clear the all list\n",
        "print(a)"
      ],
      "metadata": {
        "colab": {
          "base_uri": "https://localhost:8080/"
        },
        "id": "VtE5qg1pzsO6",
        "outputId": "f5d80be5-33d2-48a2-d645-dfaa6747aad4"
      },
      "execution_count": 5,
      "outputs": [
        {
          "output_type": "stream",
          "name": "stdout",
          "text": [
            "[1, 6, 7, 8, 2, 3, 4, 5, 9]\n",
            "[1, 2, 3, 4, 5, 6, 7, 8, 9]\n",
            "[9, 8, 7, 6, 5, 4, 3, 2, 1]\n",
            "[9, 8, 7, 6, 5, 4, 3, 2, 1, 2]\n",
            "[9, 8, 7, 6, 5, 4, 2, 1, 2]\n",
            "[9, 8, 22, 7, 6, 5, 4, 2, 1, 2]\n",
            "[9, 8, 7, 6, 5, 4, 2, 1, 2]\n",
            "[]\n"
          ]
        }
      ]
    },
    {
      "cell_type": "markdown",
      "source": [
        "**tuples**"
      ],
      "metadata": {
        "id": "UkRbk-aAuG27"
      }
    },
    {
      "cell_type": "code",
      "source": [
        "a=(1,2,3,4,5,6,7,8,7,6,4,35,3,4,35,23,1,7,7,6)\n",
        "# here is the representation of the tuple"
      ],
      "metadata": {
        "id": "U9RPiVrJ2TNo"
      },
      "execution_count": 6,
      "outputs": []
    },
    {
      "cell_type": "code",
      "source": [
        "print(a)\n",
        "print(a.count(7)) # counting the number of 7 occuring in the tuple\n",
        "a=a.count(35)\n",
        "print(a)\n"
      ],
      "metadata": {
        "colab": {
          "base_uri": "https://localhost:8080/"
        },
        "id": "iogsuLj7wlIo",
        "outputId": "faa855a4-55a9-4e34-98c9-0279ad6e09f7"
      },
      "execution_count": 7,
      "outputs": [
        {
          "output_type": "stream",
          "name": "stdout",
          "text": [
            "(1, 2, 3, 4, 5, 6, 7, 8, 7, 6, 4, 35, 3, 4, 35, 23, 1, 7, 7, 6)\n",
            "4\n",
            "2\n"
          ]
        }
      ]
    },
    {
      "cell_type": "code",
      "source": [
        "a=(2,4,5,6,4,2,3,536,4557,4,53,232,3,4)\n",
        "print(a.index(3))\n"
      ],
      "metadata": {
        "colab": {
          "base_uri": "https://localhost:8080/"
        },
        "id": "LCBw3KKqxjQq",
        "outputId": "1002b3a7-b40b-4351-8470-f7ac5fd615f4"
      },
      "execution_count": 25,
      "outputs": [
        {
          "output_type": "stream",
          "name": "stdout",
          "text": [
            "6\n"
          ]
        }
      ]
    },
    {
      "cell_type": "code",
      "source": [
        "t=()#empy tuple\n",
        "t=(1,)#single elmenet tupple\n",
        "print(type(t))\n",
        "len(a)\n"
      ],
      "metadata": {
        "colab": {
          "base_uri": "https://localhost:8080/"
        },
        "id": "GPzUBK8gu1wp",
        "outputId": "4ce8481f-3dc4-4b0d-e932-19d4acbd6375"
      },
      "execution_count": 9,
      "outputs": [
        {
          "output_type": "stream",
          "name": "stdout",
          "text": [
            "<class 'tuple'>\n"
          ]
        },
        {
          "output_type": "execute_result",
          "data": {
            "text/plain": [
              "14"
            ]
          },
          "metadata": {},
          "execution_count": 9
        }
      ]
    },
    {
      "cell_type": "code",
      "source": [
        "# a[0]=9\n",
        "# Ṭuples are immutable"
      ],
      "metadata": {
        "id": "mDFXyvzdIXjT"
      },
      "execution_count": 27,
      "outputs": []
    },
    {
      "cell_type": "markdown",
      "source": [
        "**practice set**"
      ],
      "metadata": {
        "id": "drQiw2pm601K"
      }
    },
    {
      "cell_type": "code",
      "source": [
        "# creating a list with different fruit items\n",
        "\n",
        "a=[]\n",
        "b=input(\"enter fruits  name:\")\n",
        "a.append(b)\n",
        "c=input(\"enter fruits name:\")\n",
        "a.append(c)\n",
        "d=input(\"enter fruits name:\")\n",
        "a.append(d)\n",
        "e=input(\"enter fruits name:\")\n",
        "a.append(e)\n",
        "f=input(\"enter fruits name:\")\n",
        "a.append(f)\n",
        "g=input(\"enter fruits name:\")\n",
        "a.append(g)\n",
        "h=input(\"enter fruits name:\")\n",
        "a.append(h)\n",
        "i=input(\"enter fruits name:\")\n",
        "a.append(i)\n",
        "print(a)"
      ],
      "metadata": {
        "colab": {
          "base_uri": "https://localhost:8080/"
        },
        "id": "EqCFV-QEyZOq",
        "outputId": "25c3f92d-3002-4fe6-f7fc-aee2ff6fc955"
      },
      "execution_count": 15,
      "outputs": [
        {
          "output_type": "stream",
          "name": "stdout",
          "text": [
            "enter fruits  name:Apple\n",
            "enter fruits name:Banana\n",
            "enter fruits name:Kiwi\n",
            "enter fruits name:Litchi\n",
            "enter fruits name:Orange\n",
            "enter fruits name:Papaya\n",
            "enter fruits name:Mango\n",
            "enter fruits name:Grapes\n",
            "['Apple', 'Banana', 'Kiwi', 'Litchi', 'Orange', 'Papaya', 'Mango', 'Grapes']\n"
          ]
        }
      ]
    },
    {
      "cell_type": "code",
      "source": [
        "a.sort()\n",
        "print(a)"
      ],
      "metadata": {
        "colab": {
          "base_uri": "https://localhost:8080/"
        },
        "id": "TMUmpGRjIARO",
        "outputId": "12ab8d8f-5958-48c6-bd9b-89225b3a2702"
      },
      "execution_count": 17,
      "outputs": [
        {
          "output_type": "stream",
          "name": "stdout",
          "text": [
            "['Apple', 'Banana', 'Grapes', 'Kiwi', 'Litchi', 'Mango', 'Orange', 'Papaya']\n"
          ]
        }
      ]
    },
    {
      "cell_type": "code",
      "source": [
        "# created a list with fruits name\n",
        "\n",
        "try:\n",
        "  x=[]\n",
        "  a,b,c,d=input(\"enter fruits  name:\"),input(\"enter fruits  name:\"),input(\"enter fruits  name:\"),input(\"enter fruits  name:\")\n",
        "  for i in a,b,c,d:\n",
        "     x.append(i)\n",
        "  print(x)\n",
        "except:\n",
        "  print(\"coorect the code\")"
      ],
      "metadata": {
        "colab": {
          "base_uri": "https://localhost:8080/"
        },
        "id": "aEAskttLFQLF",
        "outputId": "f9674d39-3132-4d05-e52c-b1ea9f5c6845"
      },
      "execution_count": 11,
      "outputs": [
        {
          "output_type": "stream",
          "name": "stdout",
          "text": [
            "enter fruits  name:Mango\n",
            "enter fruits  name:Apple\n",
            "enter fruits  name:Banana\n",
            "enter fruits  name:Kiwi\n",
            "['Mango', 'Apple', 'Banana', 'Kiwi']\n"
          ]
        }
      ]
    },
    {
      "cell_type": "code",
      "source": [
        "x.sort()\n",
        "print(x)"
      ],
      "metadata": {
        "colab": {
          "base_uri": "https://localhost:8080/"
        },
        "id": "r0Ky8Ogp2i_L",
        "outputId": "cc93efcb-9293-47ae-fb2b-c7e5e8993cfd"
      },
      "execution_count": 18,
      "outputs": [
        {
          "output_type": "stream",
          "name": "stdout",
          "text": [
            "['Apple', 'Banana', 'Kiwi', 'Mango']\n"
          ]
        }
      ]
    },
    {
      "cell_type": "code",
      "source": [
        "a=[34,98,76,5,9,75]\n",
        "a.sort()\n",
        "print(a)\n",
        "a.append(65)\n",
        "print(a)\n",
        "a.insert(6,66)\n",
        "print(a)"
      ],
      "metadata": {
        "colab": {
          "base_uri": "https://localhost:8080/"
        },
        "id": "hp9W59C85R9q",
        "outputId": "3c996534-7e62-4f85-d52a-86e919ab3c94"
      },
      "execution_count": 19,
      "outputs": [
        {
          "output_type": "stream",
          "name": "stdout",
          "text": [
            "[5, 9, 34, 75, 76, 98]\n",
            "[5, 9, 34, 75, 76, 98, 65]\n",
            "[5, 9, 34, 75, 76, 98, 66, 65]\n"
          ]
        }
      ]
    },
    {
      "cell_type": "code",
      "source": [
        "print(a[0]+a[1]+a[2]+a[3]+a[4]+a[5]+a[6]+a[7])"
      ],
      "metadata": {
        "colab": {
          "base_uri": "https://localhost:8080/"
        },
        "id": "fEPbHsmG7ANU",
        "outputId": "450f41b8-6af2-4197-ed3a-8dfd0f3e5c13"
      },
      "execution_count": 20,
      "outputs": [
        {
          "output_type": "stream",
          "name": "stdout",
          "text": [
            "428\n"
          ]
        }
      ]
    },
    {
      "cell_type": "code",
      "source": [
        "a=(7,0,8,0,0,9)\n",
        "print(a)"
      ],
      "metadata": {
        "colab": {
          "base_uri": "https://localhost:8080/"
        },
        "id": "l9CZIKs_9VjP",
        "outputId": "c427ddd4-c982-48bd-caa3-b340d3aa0314"
      },
      "execution_count": 21,
      "outputs": [
        {
          "output_type": "stream",
          "name": "stdout",
          "text": [
            "(7, 0, 8, 0, 0, 9)\n"
          ]
        }
      ]
    },
    {
      "cell_type": "code",
      "source": [
        "print(a)"
      ],
      "metadata": {
        "colab": {
          "base_uri": "https://localhost:8080/"
        },
        "id": "oaunNphv9sQs",
        "outputId": "dc5d3522-c6ff-4f7c-b596-2716f6fb0ba3"
      },
      "execution_count": 22,
      "outputs": [
        {
          "output_type": "stream",
          "name": "stdout",
          "text": [
            "(7, 0, 8, 0, 0, 9)\n"
          ]
        }
      ]
    },
    {
      "cell_type": "code",
      "source": [
        "A=a.count(0)\n",
        "print(A)"
      ],
      "metadata": {
        "colab": {
          "base_uri": "https://localhost:8080/"
        },
        "id": "hKbQSZIa-2rc",
        "outputId": "fbee6cfa-454d-4749-c864-b920e0be95e1"
      },
      "execution_count": 23,
      "outputs": [
        {
          "output_type": "stream",
          "name": "stdout",
          "text": [
            "3\n"
          ]
        }
      ]
    }
  ]
}