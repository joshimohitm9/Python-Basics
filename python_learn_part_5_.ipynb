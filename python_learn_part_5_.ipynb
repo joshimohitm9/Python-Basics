{
  "nbformat": 4,
  "nbformat_minor": 0,
  "metadata": {
    "colab": {
      "provenance": [],
      "authorship_tag": "ABX9TyMQR1T7koNBPm3yVODcI+dI",
      "include_colab_link": true
    },
    "kernelspec": {
      "name": "python3",
      "display_name": "Python 3"
    },
    "language_info": {
      "name": "python"
    }
  },
  "cells": [
    {
      "cell_type": "markdown",
      "metadata": {
        "id": "view-in-github",
        "colab_type": "text"
      },
      "source": [
        "<a href=\"https://colab.research.google.com/github/joshimohitm9/Python-Basics/blob/main/python_learn_part_5_.ipynb\" target=\"_parent\"><img src=\"https://colab.research.google.com/assets/colab-badge.svg\" alt=\"Open In Colab\"/></a>"
      ]
    },
    {
      "cell_type": "markdown",
      "source": [
        "**Creation of fucntion**"
      ],
      "metadata": {
        "id": "JoZKWBLNrd6Z"
      }
    },
    {
      "cell_type": "code",
      "execution_count": 1,
      "metadata": {
        "id": "vtAExd28LZrE",
        "colab": {
          "base_uri": "https://localhost:8080/"
        },
        "outputId": "a925ed3f-1af1-44ef-c227-72971ee99323"
      },
      "outputs": [
        {
          "output_type": "stream",
          "name": "stdout",
          "text": [
            "enter a number :-4\n",
            "enter another number :-6\n",
            "sum of two number is 10\n"
          ]
        }
      ],
      "source": [
        "\n",
        "def add(a,b):\n",
        "  print(f\"sum of two number is {a+b}\")\n",
        "  return\n",
        "\n",
        "x=int(input(\"enter a number :-\"))\n",
        "y=int(input(\"enter another number :-\"))\n",
        "\n",
        "add(x,y)"
      ]
    },
    {
      "cell_type": "code",
      "source": [
        "# progarm for leap year or not\n",
        "def leap(a):\n",
        "  a=input(\"Enter a Year \")\n",
        "  if len(a)==4 :\n",
        "    a=int(a)\n",
        "\n",
        "    if(a-2000)%4==0 :\n",
        "        print(f\"it is a leap year {a}\")\n",
        "    else:\n",
        "        print(\"it is not a leap year\")\n",
        "  else:\n",
        "       print(\"enter a Valid Year \")\n",
        "\n"
      ],
      "metadata": {
        "id": "aAQ2qN3kL65c"
      },
      "execution_count": 2,
      "outputs": []
    },
    {
      "cell_type": "code",
      "source": [
        "# greater amoung 3 using def\n",
        "\n",
        "def grtr(x,y,z):\n",
        "  if x>y and x>z:\n",
        "    print(x,\"is the greater number\")\n",
        "  elif(y>x and y>z):\n",
        "    print(y,\"is the greater number\")\n",
        "  elif(z>x and z>y):\n",
        "    print(z,\"is the greater number\")\n",
        "\n",
        "x=int(input(\"enter a number :-\"))\n",
        "y=int(input(\"enter another number :-\"))\n",
        "z=int(input(\"enter another number :-\"))\n",
        "grtr(x,y,z)"
      ],
      "metadata": {
        "colab": {
          "base_uri": "https://localhost:8080/"
        },
        "id": "fLqIlFaHOFVX",
        "outputId": "dcb9397d-737f-46dc-bbce-f141665a7875"
      },
      "execution_count": 3,
      "outputs": [
        {
          "output_type": "stream",
          "name": "stdout",
          "text": [
            "enter a number :-2024\n",
            "enter another number :-4344\n",
            "enter another number :-233\n",
            "4344 is the greater number\n"
          ]
        }
      ]
    },
    {
      "cell_type": "code",
      "source": [
        "def table(a):\n",
        "  for i in range(1,11):\n",
        "   print(f\"{a}X{i}={a*i}\")\n",
        "\n",
        "a=int(input(\"enter a number :-\"))\n",
        "table(a)"
      ],
      "metadata": {
        "colab": {
          "base_uri": "https://localhost:8080/"
        },
        "id": "jSQLfj4URaqt",
        "outputId": "9ac3d22a-9e99-478c-f6d0-2f3a007d4750"
      },
      "execution_count": 4,
      "outputs": [
        {
          "output_type": "stream",
          "name": "stdout",
          "text": [
            "enter a number :-3\n",
            "3X1=3\n",
            "3X2=6\n",
            "3X3=9\n",
            "3X4=12\n",
            "3X5=15\n",
            "3X6=18\n",
            "3X7=21\n",
            "3X8=24\n",
            "3X9=27\n",
            "3X10=30\n"
          ]
        }
      ]
    },
    {
      "cell_type": "code",
      "source": [
        "# storing input in string\n",
        "def list(x, r, f, fx, xf):\n",
        "    a = [x, r, f, fx, xf]\n",
        "    print(a)\n",
        "\n",
        "x = int(input(\"Enter a number: \"))\n",
        "r = int(input(\"Enter a number: \"))\n",
        "f = int(input(\"Enter a number: \"))\n",
        "fx = int(input(\"Enter a number: \"))\n",
        "xf = int(input(\"Enter a number: \"))\n",
        "\n",
        "list(x, r, f, fx, xf)\n"
      ],
      "metadata": {
        "colab": {
          "base_uri": "https://localhost:8080/"
        },
        "id": "PDPl3_5eSvpJ",
        "outputId": "0b28c3b2-8f64-442f-f592-9069d550eeee"
      },
      "execution_count": 5,
      "outputs": [
        {
          "output_type": "stream",
          "name": "stdout",
          "text": [
            "Enter a number: 4\n",
            "Enter a number: 3\n",
            "Enter a number: 3\n",
            "Enter a number: 2\n",
            "Enter a number: 4\n",
            "[4, 3, 3, 2, 4]\n"
          ]
        }
      ]
    },
    {
      "cell_type": "code",
      "source": [
        "def sum(a):\n",
        "  m=[]\n",
        "  if a>0:\n",
        "    num=0\n",
        "  for i in range (a,0,-1):\n",
        "    num=num+i\n",
        "    m.append(i)\n",
        "  print(num,\"is the sum of\",m)\n",
        "\n",
        "\n",
        "\n",
        "a=int(input(\"enter a number :-\"))\n",
        "sum(a)"
      ],
      "metadata": {
        "colab": {
          "base_uri": "https://localhost:8080/"
        },
        "id": "L65NL1TgC8Fa",
        "outputId": "8e4200d9-cd49-41ea-aa83-68acc0c58764"
      },
      "execution_count": 6,
      "outputs": [
        {
          "output_type": "stream",
          "name": "stdout",
          "text": [
            "enter a number :-3\n",
            "6 is the sum of [3, 2, 1]\n"
          ]
        }
      ]
    },
    {
      "cell_type": "markdown",
      "source": [
        "**Exception Handeling**\n"
      ],
      "metadata": {
        "id": "P57yuSAAuuJz"
      }
    },
    {
      "cell_type": "code",
      "source": [
        "try:\n",
        "  a=int(input(\"enter a number :\"))\n",
        "  for i in range (1,11):\n",
        "    print(f\"{a} X {i} = {a*i}\")\n",
        "except:\n",
        "  print(\"enter valid number \")"
      ],
      "metadata": {
        "colab": {
          "base_uri": "https://localhost:8080/"
        },
        "id": "iR81FV1AuvqM",
        "outputId": "345b6103-f553-4eea-eecb-b023725d107d"
      },
      "execution_count": 7,
      "outputs": [
        {
          "output_type": "stream",
          "name": "stdout",
          "text": [
            "enter a number :4\n",
            "4 X 1 = 4\n",
            "4 X 2 = 8\n",
            "4 X 3 = 12\n",
            "4 X 4 = 16\n",
            "4 X 5 = 20\n",
            "4 X 6 = 24\n",
            "4 X 7 = 28\n",
            "4 X 8 = 32\n",
            "4 X 9 = 36\n",
            "4 X 10 = 40\n"
          ]
        }
      ]
    },
    {
      "cell_type": "code",
      "source": [
        "from logging import exception\n",
        "try:\n",
        "  a=input(\"enter  year :\")\n",
        "  if len(a)==4 :\n",
        "    a=int(a)\n",
        "    if (a)%4==0 :\n",
        "     print(\"its a leap year \")\n",
        "    else:\n",
        "     print(\"its not a leap year \")\n",
        "  else:\n",
        "    print(\"enter a valid year \")\n",
        "except Exception as e:\n",
        "  print(e)\n"
      ],
      "metadata": {
        "colab": {
          "base_uri": "https://localhost:8080/"
        },
        "id": "20xXOLVmuxu2",
        "outputId": "9bc5dd1f-5bf4-4165-cae5-31aad4baf7f7"
      },
      "execution_count": 8,
      "outputs": [
        {
          "output_type": "stream",
          "name": "stdout",
          "text": [
            "enter  year :2024\n",
            "its a leap year \n"
          ]
        }
      ]
    },
    {
      "cell_type": "code",
      "source": [
        "try:\n",
        "  a=[0,1,2,3,4,5,6,7,8]\n",
        "  b=int(input(\"enter a number :\"))\n",
        "  print(a[b])\n",
        "except Exception as e:\n",
        "  print(\"galti ho gyi bhai saab \", e)\n",
        "\n"
      ],
      "metadata": {
        "colab": {
          "base_uri": "https://localhost:8080/"
        },
        "id": "wt_13goru1RG",
        "outputId": "b0dbe40c-e115-428d-8304-fd9bb937ed70"
      },
      "execution_count": 9,
      "outputs": [
        {
          "output_type": "stream",
          "name": "stdout",
          "text": [
            "enter a number :g\n",
            "galti ho gyi bhai saab  invalid literal for int() with base 10: 'g'\n"
          ]
        }
      ]
    }
  ]
}